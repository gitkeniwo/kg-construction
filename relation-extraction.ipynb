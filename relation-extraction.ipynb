{
 "cells": [
  {
   "cell_type": "code",
   "metadata": {
    "ExecuteTime": {
     "end_time": "2024-11-21T00:15:17.656281Z",
     "start_time": "2024-11-21T00:15:15.147756Z"
    }
   },
   "source": "%pip install -q langchain requests ollama langchain-ollama langchain-community aim streamlit",
   "outputs": [
    {
     "name": "stdout",
     "output_type": "stream",
     "text": [
      "Note: you may need to restart the kernel to use updated packages.\n"
     ]
    }
   ],
   "execution_count": 1
  },
  {
   "cell_type": "markdown",
   "metadata": {},
   "source": [
    "# 1 Text Chunking\n",
    "\n",
    "For the sake of model max token limits, we need to process the text chapter by chapter.\n",
    "\n",
    "Since we cannot fit the whole document into the model, we need to split the text into smaller chunks. We can use the `CharacterTextSplitter` to split the text into smaller chunks.\n",
    "\n",
    "`chunk_overlap` sets the overlapping tokens between the chunks, which serves as a sliding window that moves over the text, avoiding splitting the text in the middle of a sentence."
   ]
  },
  {
   "metadata": {
    "ExecuteTime": {
     "end_time": "2024-11-22T15:20:30.428421Z",
     "start_time": "2024-11-22T15:20:30.296369Z"
    }
   },
   "cell_type": "code",
   "source": [
    "# Text chunking\n",
    "\n",
    "from langchain.text_splitter import CharacterTextSplitter\n",
    "from langchain.schema.runnable import RunnableLambda\n",
    "\n",
    "book_file_paths = ['./data/a-xmax-carol-stave'+ str(i+1) +'.txt' for i in range(5)]\n",
    "\n",
    "texts = []\n",
    "for book_file_path in book_file_paths:\n",
    "    with open(book_file_path, 'r') as file:\n",
    "        texts.append(file.read())\n",
    "\n",
    "\n",
    "# Initialize the splitter\n",
    "splitter = CharacterTextSplitter(\n",
    "    separator = \"\\n\\n\",\n",
    "    chunk_size=2048,\n",
    "    chunk_overlap = 256,\n",
    ")\n",
    "\n",
    "text = texts[0]\n",
    "\n",
    "# Create RunnableLambda for the splitter\n",
    "splitter_lambda = lambda text: splitter.create_documents([text])\n",
    "splitter_runnable = RunnableLambda(splitter_lambda)\n",
    "\n",
    "chunks = splitter.create_documents([text])\n",
    "\n",
    "chunks_with_id = [(i, chunk) for i, chunk in enumerate(chunks)]"
   ],
   "outputs": [],
   "execution_count": 13
  },
  {
   "cell_type": "markdown",
   "metadata": {},
   "source": [
    "# Iterative Entity Extraction\n",
    "\n",
    "Entity extraction is a two-step process:\n",
    "- Chunk-level Entity Extraction (CLEE)\n",
    "- Entity Aggregation (EA)\n",
    "\n",
    "For the sake of model max token limits, we need to process the text chapter by chapter.\n",
    "\n",
    "The process is shown below, and is wrapped in another python module `extraction.py`.\n",
    "\n",
    "First, let's get some ideas from the model on the possible entity types."
   ]
  },
  {
   "metadata": {
    "ExecuteTime": {
     "end_time": "2024-11-22T15:21:16.127893Z",
     "start_time": "2024-11-22T15:20:55.354011Z"
    }
   },
   "cell_type": "code",
   "source": [
    "from langchain.schema.output_parser import StrOutputParser\n",
    "from langchain_ollama import ChatOllama\n",
    "from langchain_core.prompts import ChatPromptTemplate\n",
    "\n",
    "llama3_1_entity_type = ChatOllama(\n",
    "    model=\"llama3.1:8b\",\n",
    "    temperature=0.8,\n",
    "    top_k=60,\n",
    "    top_p=0.9,\n",
    "    num_predict=2048,\n",
    "    base_url=\"http://127.0.0.1:11434\",\n",
    ")\n",
    "\n",
    "entity_type_prompt_template = ChatPromptTemplate.from_messages([\n",
    "        (\"system\", \"You are to assist the user to construct a knowledge graph for a novel. \"),\n",
    "        (\"human\", \"\"\"\n",
    "The user is working on extracting entities from a book to build a knowledge graph. You goal is to provide a list of possible entity types that are commonly present in knowledge graphs for novels.\n",
    "Please reply in the following format:\n",
    "[\"entity_type1\", \"entity_type2\", \"entity_type3\", ...]\n",
    "\"\"\"),\n",
    "    ])\n",
    "\n",
    "entity_type_chain = entity_type_prompt_template | llama3_1_entity_type | StrOutputParser()\n",
    "\n",
    "entity_type_chain.invoke({})"
   ],
   "outputs": [
    {
     "data": {
      "text/plain": [
       "'Here\\'s a list of common entity types found in knowledge graphs for novels:\\n\\n[\"Person\", \"Location\", \"Organization\", \"Event\", \"TimePeriod\", \"Concept\", \"Attribute\", \"Relationship\"]\\n\\nMore specifically, these might include:\\n\\n* Characters (e.g. protagonist, antagonist, supporting characters)\\n\\t+ Person\\n* Places and settings (e.g. cities, countries, fictional worlds)\\n\\t+ Location\\n* Institutions and groups (e.g. governments, companies, gangs)\\n\\t+ Organization\\n* Significant events (e.g. battles, discoveries, birthdays)\\n\\t+ Event\\n* Historical periods or eras (e.g. ancient civilizations, historical events)\\n\\t+ TimePeriod\\n* Ideas, themes, and emotions (e.g. love, friendship, redemption)\\n\\t+ Concept\\n* Physical and mental characteristics (e.g. appearance, skills, personality traits)\\n\\t+ Attribute\\n* Relationships between characters (e.g. friendship, romance, family ties)\\n\\t+ Relationship\\n\\nLet me know if you\\'d like to proceed with extracting entities from the novel!'"
      ]
     },
     "execution_count": 16,
     "metadata": {},
     "output_type": "execute_result"
    }
   ],
   "execution_count": 16
  },
  {
   "metadata": {},
   "cell_type": "markdown",
   "source": [
    "## Chunk-level Entity Extraction\n",
    "\n",
    "Next, we build a simple pipeline for Chunk-level Entity Extraction (CLEE) using the Ollama model."
   ]
  },
  {
   "metadata": {
    "ExecuteTime": {
     "end_time": "2024-11-22T15:21:22.508809Z",
     "start_time": "2024-11-22T15:21:16.131696Z"
    }
   },
   "cell_type": "code",
   "source": [
    "# use ollama llama3.1:8b for entity extraction\n",
    "\n",
    "import yaml\n",
    "from langchain.schema.output_parser import StrOutputParser\n",
    "from langchain_ollama import ChatOllama\n",
    "from langchain_core.prompts import ChatPromptTemplate\n",
    "\n",
    "# read prompt files from yaml\n",
    "with open('./prompts/entity.yaml', 'r') as file:\n",
    "    entity_yaml = yaml.safe_load(file)\n",
    "\n",
    "# Initialize the ollama model    \n",
    "llama3_1_params = entity_yaml['chat_model_params']['llama3.1']\n",
    "\n",
    "llama3_1 = ChatOllama(\n",
    "    model=\"llama3.1:8b\",\n",
    "    temperature=0.2,\n",
    "    top_k=10,\n",
    "    top_p=0.6,\n",
    "    num_predict=2048,\n",
    "    base_url=\"http://127.0.0.1:11434\",\n",
    ")\n",
    "\n",
    "# chunk-level entity extraction (CLEE)\n",
    "clee_template = ChatPromptTemplate.from_messages([\n",
    "        (\"system\", entity_yaml['system']),\n",
    "        (\"human\", entity_yaml['clee']),\n",
    "    ])\n",
    "\n",
    "clee_chain = clee_template | llama3_1 | StrOutputParser()\n",
    "\n",
    "# test CLEE\n",
    "result = clee_chain.invoke({\n",
    "    \"text\": chunks[2].page_content,\n",
    "    \"entity_type\": entity_yaml[\"entity_types\"],\n",
    "})\n",
    "\n",
    "print(result)"
   ],
   "outputs": [
    {
     "name": "stdout",
     "output_type": "stream",
     "text": [
      "[(\"Scrooge\", \"Person\"), (\"Christmas Eve\", \"Event\"), (\"City\", \"Location\"), (\"Marley\", is not mentioned, but Jacob Marley's ghost will be important later in the novel), (\"Jacob Marley\", \"Person\"), (\"nephew\", \"Person\")]\n"
     ]
    }
   ],
   "execution_count": 17
  },
  {
   "metadata": {},
   "cell_type": "markdown",
   "source": "Next, we define an iterative function that runs the CLEE on each chunk and caches the results."
  },
  {
   "metadata": {
    "ExecuteTime": {
     "end_time": "2024-11-22T00:41:51.544425Z",
     "start_time": "2024-11-22T00:41:51.508155Z"
    }
   },
   "cell_type": "code",
   "source": [
    "# Define Iterative RunnableLambda of Chunk_Level Entity Extraction\n",
    "\n",
    "from langchain.schema.runnable import RunnableLambda\n",
    "from langchain_community.tools.file_management.write import WriteFileTool\n",
    "from tqdm import tqdm\n",
    "\n",
    "def iterate_over_chunks_and_cache(chunks): \n",
    "    \n",
    "    chunk_level_entities = []\n",
    "    \n",
    "    with tqdm(total=len(chunks), desc=\"Processing the chunks...\") as pbar:\n",
    "        for i, chunk in enumerate(chunks):      \n",
    "            pbar.set_postfix({'Current chunk': chunk.page_content[:10]+'...', 'Iteration': i + 1})\n",
    "            chunk_level_entities.append(clee_chain.invoke({\n",
    "                \"text\": chunk.page_content,\n",
    "                \"entity_type\": entity_yaml[\"entity_types\"],\n",
    "            }))\n",
    "            pbar.update(1)\n",
    "    \n",
    "    \n",
    "    # cache the chunk-level entities\n",
    "    WriteFileTool().invoke({\n",
    "        \"file_path\": \"./output/chunk-level-entities.txt\",\n",
    "        \"text\": str(chunk_level_entities),\n",
    "    })\n",
    "    \n",
    "    return {\n",
    "        \"entities\": chunk_level_entities,\n",
    "        \"entity_type\": entity_yaml[\"entity_types\"],\n",
    "        }\n",
    "\n",
    "clee_iter = RunnableLambda(iterate_over_chunks_and_cache)"
   ],
   "outputs": [],
   "execution_count": 5
  },
  {
   "metadata": {},
   "cell_type": "markdown",
   "source": [
    "## Stave-level Entity Aggregation\n",
    "\n",
    "Next, we define a template for Entity Aggregation (EA) and run it on the cached chunk-level entities for each stave.\n",
    "\n",
    "The following is a test run on the first stave."
   ]
  },
  {
   "metadata": {
    "ExecuteTime": {
     "end_time": "2024-11-21T22:26:15.249695Z",
     "start_time": "2024-11-21T22:19:03.374137Z"
    }
   },
   "cell_type": "code",
   "source": [
    "# Entity-aggregation\n",
    "\n",
    "# params: entity-type, entities\n",
    "ea_template = ChatPromptTemplate.from_messages([\n",
    "        (\"system\", entity_yaml['system']),\n",
    "        (\"human\", entity_yaml['ea']),\n",
    "    ])\n",
    "\n",
    "ea_chain = splitter_runnable | clee_iter | ea_template | llama3_1 | StrOutputParser()\n",
    "\n",
    "global_entities = ea_chain.invoke(text)\n",
    "\n",
    "WriteFileTool().invoke({\n",
    "    \"file_path\": \"./output/example-stave-aggregation.txt\",\n",
    "    \"text\": str(global_entities),\n",
    "})"
   ],
   "outputs": [
    {
     "name": "stderr",
     "output_type": "stream",
     "text": [
      "Processing the chunks...:   0%|          | 0/96 [00:00<?, ?it/s, Current chunk=CONTENTS\n",
      "\n",
      "Processing the chunks...:   1%|          | 1/96 [00:03<05:11,  3.28s/it, Current chunk=CONTENTS\n",
      "\n",
      "Processing the chunks...:  27%|██▋       | 26/96 [01:40<03:51,  3.31s/it, Current chunk=\"I am!\"a s..., Iteration=26]\n",
      "\n",
      "Processing the chunks...:  28%|██▊       | 27/96 [01:43<03:50,  3.34s/it, Current chunk=\"I am!\"\n",
      "\n",
      "Processing the chunks...: 100%|██████████| 96/96 [06:33<00:00,  4.10s/it, Current chunk=*     *   ..., Iteration=96]\n"
     ]
    },
    {
     "data": {
      "text/plain": [
       "'File written successfully to ./output/global-entities.txt.'"
      ]
     },
     "execution_count": 23,
     "metadata": {},
     "output_type": "execute_result"
    }
   ],
   "execution_count": 23
  },
  {
   "metadata": {},
   "cell_type": "markdown",
   "source": [
    "## The Result for All Staves\n",
    "\n",
    "The above process only for the first stave. The logic can be applied to the rest of the staves and is wrapper in another python module `extraction_util.py`.\n",
    "We can now run the process for all the staves."
   ]
  },
  {
   "metadata": {
    "ExecuteTime": {
     "end_time": "2024-11-22T00:50:51.640088Z",
     "start_time": "2024-11-22T00:42:32.357142Z"
    }
   },
   "cell_type": "code",
   "source": [
    "# read prompt files from yaml\n",
    "with open('./prompts/entity.yaml', 'r') as file:\n",
    "    entity_yaml = yaml.safe_load(file)\n",
    "    \n",
    "from utils.extraction_util import extract_entities\n",
    "\n",
    "stave_entities = []\n",
    "for i, text in enumerate(texts):\n",
    "    stave_entities.append(extract_entities(text=text, entity_yaml=entity_yaml, stave_num=i+1))"
   ],
   "outputs": [
    {
     "name": "stderr",
     "output_type": "stream",
     "text": [
      "Processing the chunks of stave1...:   0%|          | 0/22 [00:00<?, ?it/s, Current chunk=STAVE ONE\n",
      "Processing the chunks of stave1...:   5%|▍         | 1/22 [00:04<01:43,  4.95s/it, Current chunk=STAVE ONE\n",
      "Processing the chunks of stave1...: 100%|██████████| 22/22 [01:31<00:00,  4.15s/it, Current chunk=Whether th..., Iteration=22]\n",
      "Processing the chunks of stave2...:   0%|          | 0/21 [00:00<?, ?it/s, Current chunk=STAVE TWO\n",
      "Processing the chunks of stave2...:   5%|▍         | 1/21 [00:05<01:44,  5.21s/it, Current chunk=STAVE TWO\n",
      "Processing the chunks of stave2...:  14%|█▍        | 3/21 [00:11<01:07,  3.77s/it, Current chunk=\"I am!\"a s..., Iteration=3]\n",
      "\n",
      "Processing the chunks of stave2...:  19%|█▉        | 4/21 [00:15<01:00,  3.58s/it, Current chunk=\"I am!\"\n",
      "\n",
      "Processing the chunks of stave2...: 100%|██████████| 21/21 [01:24<00:00,  4.02s/it, Current chunk=\"Belle,\" s..., Iteration=21]\n",
      "Processing the chunks of stave3...: 100%|██████████| 29/29 [01:59<00:00,  4.12s/it, Current chunk=\"Spirit! a..., Iteration=29]\n",
      "Processing the chunks of stave4...: 100%|██████████| 16/16 [01:08<00:00,  4.29s/it, Current chunk=\"Before I ..., Iteration=16]\n",
      "Processing the chunks of stave5...: 100%|██████████| 7/7 [00:31<00:00,  4.53s/it, Current chunk=Bob trembl..., Iteration=7]\n"
     ]
    }
   ],
   "execution_count": 6
  },
  {
   "metadata": {},
   "cell_type": "markdown",
   "source": [
    "## Aggregate over the Stave-level Entities\n",
    "\n",
    "Next, we define a template for Stave-level Entity Aggregation and run it on the cached chunk-level entities for each stave.\n",
    "\n",
    "We also run by chunks iteratively, provide the model with the previously extracted entities to maintain the context."
   ]
  },
  {
   "metadata": {
    "ExecuteTime": {
     "end_time": "2024-11-22T00:52:28.318766Z",
     "start_time": "2024-11-22T00:52:28.312899Z"
    }
   },
   "cell_type": "code",
   "source": "str(stave_entities).__len__()",
   "outputs": [
    {
     "data": {
      "text/plain": [
       "6411"
      ]
     },
     "execution_count": 7,
     "metadata": {},
     "output_type": "execute_result"
    }
   ],
   "execution_count": 7
  },
  {
   "metadata": {
    "ExecuteTime": {
     "end_time": "2024-11-22T00:52:29.573463Z",
     "start_time": "2024-11-22T00:52:29.552340Z"
    }
   },
   "cell_type": "code",
   "source": [
    "llama3_1_sle = ChatOllama(\n",
    "    model=\"llama3.1:8b\",\n",
    "    temperature=0.2,\n",
    "    top_k=10,\n",
    "    top_p=0.6,\n",
    "    num_predict=4096,\n",
    ")"
   ],
   "outputs": [],
   "execution_count": 8
  },
  {
   "metadata": {},
   "cell_type": "markdown",
   "source": "The entity list is still too long for LLM inputs. So, let's split the list into smaller chunks, and feed them to the model iteratively, together with the model output context from the previous iteration."
  },
  {
   "metadata": {
    "ExecuteTime": {
     "end_time": "2024-11-22T00:53:57.679422Z",
     "start_time": "2024-11-22T00:52:31.860710Z"
    }
   },
   "cell_type": "code",
   "source": [
    "from tqdm import tqdm\n",
    "\n",
    "with open('./prompts/entity.yaml', 'r') as file:\n",
    "    entity_yaml = yaml.safe_load(file)\n",
    "    \n",
    "stave_aggregation_template = ChatPromptTemplate.from_messages([\n",
    "        (\"system\", entity_yaml['system']),\n",
    "        (\"human\", entity_yaml['stave-aggregation']),\n",
    "    ])\n",
    "\n",
    "stave_aggregation_chain = stave_aggregation_template | llama3_1_sle | StrOutputParser()\n",
    "\n",
    "previous_entities = \"\"\n",
    "\n",
    "for stave in tqdm(stave_entities):\n",
    "\n",
    "    global_entities = stave_aggregation_chain.invoke({\n",
    "        \"entity_type\": entity_yaml[\"entity_types\"],\n",
    "        \"entities\": stave,\n",
    "        \"prev_entities\": previous_entities,\n",
    "    })\n",
    "    \n",
    "    previous_entities = global_entities\n",
    "    \n",
    "print(global_entities)\n",
    "\n",
    "# cache the global entities\n",
    "WriteFileTool().invoke({\n",
    "    \"file_path\": \"./output/global-entities.txt\",\n",
    "    \"text\": global_entities,\n",
    "})\n",
    "\n",
    "# or using pickle\n",
    "import pickle\n",
    "\n",
    "with open('output/entities/global-entities.pickle', 'wb') as file:\n",
    "    pickle.dump(global_entities, file)"
   ],
   "outputs": [
    {
     "name": "stderr",
     "output_type": "stream",
     "text": [
      "100%|██████████| 5/5 [01:25<00:00, 17.16s/it]"
     ]
    },
    {
     "name": "stdout",
     "output_type": "stream",
     "text": [
      "[(\"Jacob Marley\", \"Person\"), (\"Scrooge\", \"Person\"), (\"Bob Cratchit\", \"Person\"), (\"Tiny Tim\", \"Person\"), (\"Fred\", \"Person\"), (\"Ghost of Jacob Marley\", \"Object\"), (\"Ghost of Christmas Present\", \"Object\"), (\"wandering Spirits\", \"Object\"), (\"saucepan\", \"Object\"), (\"door\", \"Object\"), (\"corner\", \"Location\"), (\"window\", \"Location\"), (\"Christmas Time\", \"Concept\"), (\"Past\", \"Concept\"), (\"Present\", \"Concept\"), (\"Future\", \"Concept\"), (\"Spirits of all Three\", \"Concept\"), (\"Christmas Day\", \"Event\"), (\"boy\", \"Person\"), (\"Turkey\", \"Object\"), (\"Marley\", \"Person\"), (\"Girl\", \"Person\"), (\"nephew\", \"Person\"), (\"girl\", \"Person\"), (\"Topper\", \"Person\"), (\"the plump sister\", \"Person\"), (\"Bob\", \"Person\"), (\"Cratchit\", \"Person\"), (\"City\", \"Location\")]\n"
     ]
    },
    {
     "name": "stderr",
     "output_type": "stream",
     "text": [
      "\n"
     ]
    }
   ],
   "execution_count": 9
  },
  {
   "metadata": {},
   "cell_type": "markdown",
   "source": [
    "# 3 Relation Extraction\n",
    "\n",
    "First, we ask the llm to provide us with a list of possible relation types."
   ]
  },
  {
   "metadata": {
    "ExecuteTime": {
     "end_time": "2024-11-22T00:37:38.746047Z",
     "start_time": "2024-11-22T00:37:30.295292Z"
    }
   },
   "cell_type": "code",
   "source": [
    "llama3_1_relation_type = ChatOllama(\n",
    "    model=\"llama3.1:8b\",\n",
    "    temperature=0.8,\n",
    "    top_k=60,\n",
    "    top_p=0.9,\n",
    "    num_predict=2048,\n",
    "    base_url=\"http://127.0.0.1:11434\",\n",
    ")\n",
    "\n",
    "relation_type_prompt_template = ChatPromptTemplate.from_messages([\n",
    "        (\"system\", \"You are to assist the user to construct a knowledge graph for a novel. \"),\n",
    "        (\"human\", \"\"\"\n",
    "The user is working on extracting relations from a book to build a knowledge graph. You goal is to provide a list of possible relation types that are commonly present in knowledge graphs for novels.\n",
    "Please reply in the following format:\n",
    "[\"relation_type1\", \"relation_type2\", \"relation_type3\", ...]\n",
    "\"\"\"),\n",
    "    ])\n",
    "\n",
    "relation_type_chain = relation_type_prompt_template | llama3_1_relation_type | StrOutputParser()\n",
    "\n",
    "relation_type_chain.invoke({})"
   ],
   "outputs": [
    {
     "data": {
      "text/plain": [
       "'Here\\'s a list of common relation types found in knowledge graphs for novels:\\n\\n[\"Character-Affiliation\", \"Character-Relationship\", \"Location-Association\", \"Event-Occurrence\", \"Item-Possession\", \"Personality-Trait\", \"Age-Information\", \"Occupation-Profession\", \"Education-History\", \"Family-Background\", \"Nationality-Origin\", \"Conflict-Involvement\", \"Plot-Development\", \"Setting-Timeframe\", \"Organization-Membership\", \"Award-Reception\"]\\n\\nThese relation types can be used to connect entities (e.g., characters, locations, events) and convey meaningful information about the novel. Do you want me to help you categorize or prioritize these relation types?'"
      ]
     },
     "execution_count": 67,
     "metadata": {},
     "output_type": "execute_result"
    }
   ],
   "execution_count": 67
  },
  {
   "metadata": {},
   "cell_type": "markdown",
   "source": [
    "## 3.1 Chunk-level Relation Extraction\n",
    "\n",
    "Let's run Relation Extraction (RE) on each chunk with the help of extracted global entities.\n",
    "\n",
    "Here's the a test run on the first chunk."
   ]
  },
  {
   "metadata": {
    "ExecuteTime": {
     "end_time": "2024-11-22T15:32:41.690226Z",
     "start_time": "2024-11-22T15:32:27.285913Z"
    }
   },
   "cell_type": "code",
   "source": [
    "with open('./output/entities/global-entities.txt', 'r') as file:\n",
    "    global_entities = eval(file.read())\n",
    "\n",
    "with open(\"./prompts/relation.yaml\", 'r') as file:\n",
    "    relation_yaml = yaml.safe_load(file)\n",
    "\n",
    "# chunk-level relation extraction\n",
    "cl_relation_extraction_template = ChatPromptTemplate.from_messages([\n",
    "        (\"system\", relation_yaml['system']),\n",
    "        (\"human\", relation_yaml['chunk-relation-extraction-basic']),\n",
    "    ])\n",
    "\n",
    "cl_relation_extraction_chain = cl_relation_extraction_template | llama3_1 | StrOutputParser()\n",
    "\n",
    "cl_relation_extraction_result = cl_relation_extraction_chain.invoke({\n",
    "    \"global_entities\": global_entities,\n",
    "    \"current_chunk\": chunks[3].page_content,\n",
    "    \"relation_types\": relation_yaml[\"relation-types\"],\n",
    "})\n",
    "\n",
    "print(cl_relation_extraction_result)"
   ],
   "outputs": [
    {
     "name": "stdout",
     "output_type": "stream",
     "text": [
      "[(\"Scrooge\", \"nephew\", \"Character-Relationship\", \"Character-Affiliation\"), \n",
      " (\"Scrooge\", \"nephew\", \"Conflict-Involvement\", \"Plot-Development\"), \n",
      " (\"Scrooge\", \"nephew\", \"Age-Information\", \"Personality-Trait\"), \n",
      " (\"Scrooge\", \"Marley\", \"Occupation-Profession\", \"Character-Affiliation\"), \n",
      " (\"Scrooge\", \"Bob Cratchit\", \"Occupation-Profession\", \"Character-Affiliation\")]\n"
     ]
    }
   ],
   "execution_count": 23
  },
  {
   "metadata": {},
   "cell_type": "markdown",
   "source": [
    "## Iterative Chunk-Level Relation Extraction\n",
    "\n",
    "Now, again, run the relation extraction iteratively for all the chunks."
   ]
  },
  {
   "metadata": {
    "ExecuteTime": {
     "end_time": "2024-11-22T03:53:33.929661Z",
     "start_time": "2024-11-22T03:39:27.560864Z"
    }
   },
   "cell_type": "code",
   "source": [
    "whole_book = \"./data/a-xmas-carol-body.txt\"\n",
    "\n",
    "with open(whole_book, 'r') as file:\n",
    "    whole_book_text = file.read()\n",
    "    \n",
    "# Initialize the splitter\n",
    "splitter = CharacterTextSplitter(\n",
    "    separator = \"\\n\\n\",\n",
    "    chunk_size=2048,\n",
    "    chunk_overlap = 256,\n",
    ")\n",
    "\n",
    "chunks_whole_book = splitter.create_documents([whole_book_text])\n",
    "\n",
    "\n",
    "# chunk-level relation extraction\n",
    "cl_relation_extraction_template = ChatPromptTemplate.from_messages([\n",
    "        (\"system\", relation_yaml['system']),\n",
    "        (\"human\", relation_yaml['chunk-relation-extraction-basic']),\n",
    "    ])\n",
    "\n",
    "cl_relation_extraction_chain = cl_relation_extraction_template | llama3_1 | StrOutputParser()\n",
    "\n",
    "def iter_extract_relations(chunks, chain=cl_relation_extraction_chain):\n",
    "\n",
    "    chunk_level_relations = []\n",
    "    \n",
    "    # Iterate over the chunks and extract relations\n",
    "    with tqdm(total=len(chunks), desc=\"Processing the chunks ...\") as pbar:\n",
    "        \n",
    "        for i, chunk in enumerate(chunks):\n",
    "            \n",
    "            pbar.set_postfix({'Current chunk': chunk.page_content[:10] + '...', 'Iteration': i + 1})\n",
    "            \n",
    "            chunk_level_relations.append(chain.invoke({\n",
    "                \"global_entities\": global_entities,\n",
    "                \"current_chunk\": chunk.page_content,\n",
    "                \"relation_types\": relation_yaml[\"relation-types\"],\n",
    "            }))\n",
    "            pbar.update(1)\n",
    "            \n",
    "    # Cache the chunk-level relations for the stave\n",
    "    WriteFileTool().invoke({\n",
    "        \"file_path\": \"./output/relations/chunk-level-relations.txt\",\n",
    "        \"text\": str(chunk_level_relations),\n",
    "    })\n",
    "    \n",
    "    return chunk_level_relations\n",
    "\n",
    "chunk_level_relations = iter_extract_relations(chunks_whole_book)\n"
   ],
   "outputs": [
    {
     "name": "stderr",
     "output_type": "stream",
     "text": [
      "Processing the chunks ...:   0%|          | 0/96 [00:00<?, ?it/s, Current chunk=CONTENTS\n",
      "\n",
      "Processing the chunks ...:   1%|          | 1/96 [00:13<21:38, 13.67s/it, Current chunk=CONTENTS\n",
      "\n",
      "Processing the chunks ...:  27%|██▋       | 26/96 [04:00<09:29,  8.14s/it, Current chunk=\"I am!\"a s..., Iteration=26]\n",
      "\n",
      "Processing the chunks ...:  28%|██▊       | 27/96 [04:12<10:25,  9.06s/it, Current chunk=\"I am!\"\n",
      "\n",
      "Processing the chunks ...: 100%|██████████| 96/96 [14:06<00:00,  8.82s/it, Current chunk=*     *   ..., Iteration=96]\n"
     ]
    }
   ],
   "execution_count": 25
  },
  {
   "metadata": {
    "ExecuteTime": {
     "end_time": "2024-11-22T20:48:48.584077Z",
     "start_time": "2024-11-22T20:48:48.575006Z"
    }
   },
   "cell_type": "code",
   "source": [
    "with open('./output/relations/chunk-level-relations.txt', 'r') as file:\n",
    "    chunk_level_relations = eval(file.read())\n",
    "\n",
    "chunk_level_relations"
   ],
   "outputs": [
    {
     "data": {
      "text/plain": [
       "['[(\"Scrooge\", \"Marley\", \"Character-Relationship\", \"Character-Affiliation\"), \\n (\"Scrooge\", \"Marley\\'s Ghost\", \"Character-Relationship\", \"Character-Affiliation\"), \\n (\"Scrooge\", \"Bob Cratchit\", \"Character-Relationship\", \"Occupation-Profession\"), \\n (\"Scrooge\", \"Tiny Tim\", \"Character-Relationship\", \"Item-Possession\"), \\n (\"Jacob Marley\", \"Marley\\'s Ghost\", \"Character-Relationship\", \"Character-Affiliation\"), \\n (\"Christmas Time\", \"Past\", \"Location-Association\", \"Setting-Timeframe\"), \\n (\"Christmas Time\", \"Present\", \"Location-Association\", \"Setting-Timeframe\"), \\n (\"Christmas Time\", \"Future\", \"Location-Association\", \"Setting-Timeframe\")]',\n",
       " '[(\"Scrooge\", \"Marley\", \"business partner\", \"Character-Relationship\"),\\n (\"Scrooge\", \"Marley\", \"executor\", \"Character-Relationship\"),\\n (\"Scrooge\", \"Marley\", \"administrator\", \"Character-Relationship\"),\\n (\"Scrooge\", \"Marley\", \"assign\", \"Character-Relationship\"),\\n (\"Scrooge\", \"Marley\", \"residuary legatee\", \"Character-Relationship\"),\\n (\"Scrooge\", \"Marley\", \"friend\", \"Character-Relationship\"),\\n (\"Scrooge\", \"Marley\", \"mourner\", \"Character-Relationship\"),\\n (\"Scrooge\", \"Marley\", \"partner\", \"Character-Affiliation\"),\\n (\"Scrooge\", \"Marley\", \"firm partner\", \"Character-Affiliation\")]',\n",
       " '[(\"Scrooge\", \"Marley\", \"Character-Relationship\", \"Character-Affiliation\"), \\n (\"Scrooge\", \"Christmas Time\", \"Character-Association\", \"Setting-Timeframe\"), \\n (\"Scrooge\", \"Fred\", \"Character-Relationship\", \"Character-Affiliation\"), \\n (\"Scrooge\", \"Bob Cratchit\", \"Character-Relationship\", \"Character-Affiliation\"), \\n (\"Marley\", \"Scrooge\", \"Character-Relationship\", \"Character-Affiliation\")]',\n",
       " '[(\"Scrooge\", \"Marley\", \"Character-Relationship\", \"Character-Affiliation\"), \\n (\"Scrooge\", \"Bob Cratchit\", \"Character-Relationship\", \"Occupation-Profession\"), \\n (\"Scrooge\", \"nephew\", \"Character-Relationship\", \"Family-Ties\"), \\n (\"Scrooge\", \"City\", \"Location-Association\", \"Residence\"), \\n (\"Marley\", \"Scrooge\", \"Character-Relationship\", \"Business-Personal\"), \\n (\"Bob Cratchit\", \"Tiny Tim\", \"Character-Relationship\", \"Family-Ties\")]',\n",
       " '[(\"Scrooge\", \"nephew\", \"family relationship\", \"Character-Relationship\"),\\n (\"Scrooge\", \"nephew\", \"employer\", \"Character-Relationship\"),\\n (\"Scrooge\", \"nephew\", \"conflict involvement\", \"Conflict-Involvement\"),\\n (\"Scrooge\", \"Marley\", \"business partner\", \"Character-Relationship\")]',\n",
       " '[(\"Scrooge\", \"nephew\", \"Character-Relationship\", \"Character-Affiliation\"), \\n (\"Scrooge\", \"clerk in the tank\", \"Conflict-Involvement\", \"Conflict-Involvement\"), \\n (\"Scrooge\\'s nephew\", \"Scrooge\", \"Character-Relationship\", \"Character-Affiliation\"), \\n (\"Scrooge\", \"nephew\", \"Plot-Development\", \"Plot-Development\"), \\n (\"Scrooge\", \"clerk in the tank\", \"Occupation-Profession\", \"Occupation-Profession\")]',\n",
       " '[(\"Scrooge\", \"Marley\", \"business partner\", \"Character-Relationship\"),\\n (\"Scrooge\", \"Marley\\'s clerk\", \"employee\", \"Occupation-Profession\"),\\n (\"Scrooge\", \"nephew\", \"family member\", \"Character-Relationship\"),\\n (\"Scrooge\", \"clerk\", \"employer\", \"Character-Affiliation\"),\\n (\"Marley\", \"Scrooge\", \"business partner\", \"Character-Relationship\"),\\n (\"Scrooge\", \"Christmas Time\", \"associated with\", \"Location-Association\"),\\n (\"Scrooge\", \"Past\", \"associated with\", \"Setting-Timeframe\"),\\n (\"Scrooge\", \"Present\", \"associated with\", \"Setting-Timeframe\"),\\n (\"Scrooge\", \"Future\", \"associated with\", \"Setting-Timeframe\")]',\n",
       " '[(\"Scrooge\", \"gentleman\", \"employer\", \"Character-Relationship\"), \\n (\"Scrooge\", \"gentleman\", \"business partner\", \"Character-Relationship\"), \\n (\"Scrooge\", \"gentleman\", \"employee\", \"Character-Relationship\"), \\n (\"Scrooge\", \"gentleman\", \"client\", \"Character-Relationship\"), \\n (\"Scrooge\", \"gentleman\", \"counterpart\", \"Character-Relationship\"), \\n (\"Scrooge\", \"Marley\", \"business partner\", \"Character-Relationship\"), \\n (\"Scrooge\", \"Bob Cratchit\", \"employer\", \"Character-Relationship\")]',\n",
       " '[(\"Scrooge\", \"gentlemen\", \"Character-Relationship\", \"Character-Affiliation\"), \\n (\"Scrooge\", \"gentlemen\", \"Character-Relationship\", \"Character-Relationship\"), \\n (\"Scrooge\", \"gentlemen\", \"Occupation-Profession\", \"Occupation-Profession\")]',\n",
       " '[(\"Scrooge\", \"labourers\", \"employer\", \"Character-Relationship\"), \\n (\"labourers\", \"men and boys\", \"colleague\", \"Character-Relationship\"), \\n (\"Lord Mayor\", \"cooks and butlers\", \"boss\", \"Character-Relationship\"), \\n (\"little tailor\", \"wife and baby\", \"family member\", \"Character-Relationship\")]',\n",
       " '[(\"Scrooge\", \"clerk\", \"employer\", \"Character-Relationship\"), \\n (\"Scrooge\", \"clerk\", \"employee\", \"Character-Relationship\"), \\n (\"Scrooge\", \"clerk\", \"customer\", \"Character-Relationship\"), \\n (\"Scrooge\", \"clerk\", \"debtor\", \"Character-Relationship\"), \\n (\"Scrooge\", \"clerk\", \"creditor\", \"Character-Relationship\")]',\n",
       " '[(\"Scrooge\", \"Marley\", \"business partner\", \"Character-Relationship\"), \\n (\"Scrooge\", \"Marley\", \"deceased partner\", \"Character-Relationship\"), \\n (\"Scrooge\", \"his chambers\", \"lives in\", \"Location-Association\"), \\n (\"Scrooge\", \"the yard\", \"owns\", \"Item-Possession\")]',\n",
       " '[(\"Scrooge\", \"Marley\\'s face\", \"looked at\", \"Character-Relationship\"),\\n (\"Scrooge\", \"Marley\", \"business partner\", \"Character-Relationship\"),\\n (\"Scrooge\", \"door\", \"opened\", \"Event-Occurrence\"),\\n (\"Scrooge\", \"candle\", \"lit\", \"Event-Occurrence\"),\\n (\"Scrooge\", \"hall\", \"walked across\", \"Location-Association\"),\\n (\"Marley\\'s face\", \"Scrooge\", \"looked at\", \"Character-Relationship\")]',\n",
       " '[(\"Scrooge\", \"door\", \"location\", \"Character-Relationship\"), \\n (\"Scrooge\", \"saucepan\", \"item\", \"Item-Possession\"), \\n (\"Scrooge\", \"gruel\", \"item\", \"Item-Possession\"), \\n (\"Scrooge\", \"cravat\", \"item\", \"Item-Possession\"), \\n (\"Scrooge\", \"dressing-gown\", \"item\", \"Item-Possession\"), \\n (\"Scrooge\", \"slippers\", \"item\", \"Item-Possession\"), \\n (\"Scrooge\", \"nightcap\", \"item\", \"Item-Possession\")]',\n",
       " '[(\"Scrooge\", \"Marley\", \"Character-Relationship\", \"Character-Affiliation\"), \\n (\"Scrooge\", \"bell\", \"Item-Possession\", \"Item-Possession\"), \\n (\"Scrooge\", \"chain\", \"Item-Possession\", \"Item-Possession\"), \\n (\"Scrooge\", \"door\", \"Location-Association\", \"Setting-Timeframe\")]',\n",
       " '[(\"Scrooge\", \"Marley\\'s Ghost\", \"Character-Relationship\", \"Character-Affiliation\"), \\n (\"Scrooge\", \"Marley\\'s Ghost\", \"employer\", \"Character-Relationship\"), \\n (\"Scrooge\", \"Marley\\'s Ghost\", \"business partner\", \"Character-Relationship\"), \\n (\"Scrooge\", \"Marley\\'s Ghost\", \"partner\", \"Character-Relationship\"), \\n (\"Scrooge\", \"Marley\\'s Ghost\", \"friend\", \"Character-Relationship\")]',\n",
       " '[(\"Scrooge\", \"Ghost of Jacob Marley\", \"Character-Relationship\", \"Character-Affiliation\"), \\n (\"Scrooge\", \"Ghost of Jacob Marley\", \"employer\", \"Character-Relationship\"), \\n (\"Scrooge\", \"Ghost of Jacob Marley\", \"business partner\", \"Character-Relationship\"), \\n (\"Scrooge\", \"Ghost of Jacob Marley\", \"friend\", \"Character-Relationship\"), \\n (\"Scrooge\", \"Jacob Marley\", \"partner\", \"Character-Affiliation\"), \\n (\"Scrooge\", \"Jacob Marley\", \"business partner\", \"Character-Relationship\")]',\n",
       " '[(\"Scrooge\", \"Ghost of Jacob Marley\", \"Character-Relationship\", \"Character-Affiliation\"), \\n (\"Scrooge\", \"Ghost of Jacob Marley\", \"Conflict-Involvement\", \"Plot-Development\"), \\n (\"Scrooge\", \"Ghost of Jacob Marley\", \"Occupation-Profession\", \"Occupation-Profession\"), \\n (\"Scrooge\", \"Ghost of Jacob Marley\", \"Personality-Trait\", \"Character-Relationship\"), \\n (\"Scrooge\", \"Ghost of Jacob Marley\", \"Age-Information\", \"Character-Affiliation\"), \\n (\"Scrooge\", \"Ghost of Jacob Marley\", \"Setting-Timeframe\", \"Plot-Development\"), \\n (\"Scrooge\", \"Ghost of Jacob Marley\", \"Event-Occurrence\", \"Plot-Development\"), \\n (\"Scrooge\", \"Ghost of Jacob Marley\", \"Item-Possession\", \"Occupation-Profession\"), \\n (\"Scrooge\", \"Ghost of Jacob Marley\", \"Character-Affiliation\", \"Character-Relationship\"), \\n (\"Scrooge\", \"Ghost of Jacob Marley\", \"Plot-Development\", \"Plot-Development\"), \\n (\"Scrooge\", \"Ghost of Jacob Marley\", \"Occupation-Profession\", \"Occupation-Profession\"), \\n (\"Scrooge\", \"Ghost of Jacob Marley\", \"Personality-Trait\", \"Character-Affiliation\"), \\n (\"Scrooge\", \"Ghost of Jacob Marley\", \"Age-Information\", \"Character-Affiliation\"), \\n (\"Scrooge\", \"Ghost of Jacob Marley\", \"Setting-Timeframe\", \"Plot-Development\"), \\n (\"Scrooge\", \"Ghost of Jacob Marley\", \"Event-Occurrence\", \"Plot-Development\"), \\n (\"Scrooge\", \"Ghost of Jacob Marley\", \"Item-Possession\", \"Occupation-Profession\"), \\n (\"Scrooge\", \"Ghost of Jacob Marley\", \"Character-Affiliation\", \"Character-Relationship\"), \\n (\"Scrooge\", \"Ghost of Jacob Marley\", \"Plot-Development\", \"Plot-Development\"), \\n (\"Scrooge\", \"Ghost of Jacob Marley\", \"Occupation-Profession\", \"Occupation-Profession\"), \\n (\"Scrooge\", \"Ghost of Jacob Marley\", \"Personality-Trait\", \"Character-Affiliation\"), \\n (\"Scrooge\", \"Ghost of Jacob Marley\", \"Age-Information\", \"Character-Affiliation\"), \\n (\"Scrooge\", \"Ghost of Jacob Marley\", \"Setting-Timeframe\", \"Plot-Development\"), \\n (\"Scrooge\", \"Ghost of Jacob Marley\", \"Event-Occurrence\", \"Plot-Development\"), \\n (\"Scrooge\", \"Ghost of Jacob Marley\", \"Item-Possession\", \"Occupation-Profession\"), \\n (\"Scrooge\", \"Ghost of Jacob Marley\", \"Character-Affiliation\", \"Character-Relationship\"), \\n (\"Scrooge\", \"Ghost of Jacob Marley\", \"Plot-Development\", \"Plot-Development\"), \\n (\"Scrooge\", \"Ghost of Jacob Marley\", \"Occupation-Profession\", \"Occupation-Profession\"), \\n (\"Scrooge\", \"Ghost of Jacob Marley\", \"Personality-Trait\", \"Character-Affiliation\"), \\n (\"Scrooge\", \"Ghost of Jacob Marley\", \"Age-Information\", \"Character-Affiliation\"), \\n (\"Scrooge\", \"Ghost of Jacob Marley\", \"Setting-Timeframe\", \"Plot-Development\"), \\n (\"Scrooge\", \"Ghost of Jacob Marley\", \"Event-Occurrence\", \"Plot-Development\"), \\n (\"Scrooge\", \"Ghost of Jacob Marley\", \"Item-Possession\", \"Occupation-Profession\"), \\n (\"Scrooge\", \"Ghost of Jacob Marley\", \"Character-Affiliation\", \"Character-Relationship\"), \\n (\"Scrooge\", \"Ghost of Jacob Marley\", \"Plot-Development\", \"Plot-Development\"), \\n (\"Scrooge\", \"Ghost of Jacob Marley\", \"Occupation-Profession\", \"Occupation-Profession\"), \\n (\"Scrooge\", \"Ghost of Jacob Marley\", \"Personality-Trait\", \"Character-Affiliation\"), \\n (\"Scrooge\", \"Ghost of Jacob Marley\", \"Age-Information\", \"Character-Affiliation\"), \\n (\"Scrooge\", \"Ghost of Jacob Marley\", \"Setting-Timeframe\", \"Plot-Development\"), \\n (\"Scrooge\", \"Ghost of Jacob Marley\", \"Event-Occurrence\", \"Plot-Development\"), \\n (\"Scrooge\", \"Ghost of Jacob Marley\", \"Item-Possession\", \"Occupation-Profession\"), \\n (\"Scrooge\", \"Ghost of Jacob Marley\", \"Character-Affiliation\", \"Character-Relationship\"), \\n (\"Scrooge\", \"Ghost of Jacob Marley\", \"Plot-Development\", \"Plot-Development\"), \\n (\"Scrooge\", \"Ghost of Jacob Marley\", \"Occupation-Profession\", \"Occupation-Profession\"), \\n (\"Scrooge\", \"Ghost of Jacob Marley\", \"Personality-Trait\", \"Character-Affiliation\"), \\n (\"Scrooge\", \"Ghost of Jacob Marley\", \"Age-Information\", \"Character-Affiliation\"), \\n (\"Scrooge\", \"Ghost of Jacob Marley\", \"Setting-Timeframe\", \"Plot-Development\"), \\n (\"Scrooge\", \"Ghost of Jacob Marley\", \"Event-Occurrence\", \"Plot-Development\"), \\n (\"Scrooge\", \"Ghost of Jacob Marley\", \"Item-Possession\", \"Occupation-Profession\"), \\n (\"Scrooge\", \"Ghost of Jacob Marley\", \"Character-Affiliation\", \"Character-Relationship\"), \\n (\"Scrooge\", \"Ghost of Jacob Marley\", \"Plot-Development\", \"Plot-Development\"), \\n (\"Scrooge\", \"Ghost of Jacob Marley\", \"Occupation-Profession\", \"Occupation-Profession\"), \\n (\"Scrooge\", \"Ghost of Jacob Marley\", \"Personality-Trait\", \"Character-Affiliation\"), \\n (\"Scrooge\", \"Ghost of Jacob Marley\", \"Age-Information\", \"Character-Affiliation\"), \\n (\"Scrooge\", \"Ghost of Jacob Marley\", \"Setting-Timeframe\", \"Plot-Development\"), \\n (\"Scrooge\", \"Ghost of Jacob Marley\", \"Event-Occurrence\", \"Plot-Development\"), \\n (\"Scrooge\", \"Ghost of Jacob Marley\", \"Item-Possession\", \"Occupation-Profession\"), \\n (\"Scrooge\", \"Ghost of Jacob Marley\", \"Character-Affiliation\", \"Character-Relationship\"), \\n (\"Scrooge\", \"Ghost of Jacob Marley\", \"Plot-Development\", \"Plot-Development\"), \\n (\"Scrooge\", \"Ghost of Jacob Marley\", \"Occupation-Profession\", \"Occupation-Profession\"), \\n (\"Scrooge\", \"Ghost of Jacob Marley\", \"Personality-Trait\", \"Character-Affiliation\"), \\n (\"Scrooge\", \"Ghost of Jacob Marley\", \"Age-Information\", \"Character-Affiliation\"), \\n (\"Scrooge\", \"Ghost of Jacob Marley\", \"Setting-Timeframe\", \"Plot-Development\"), \\n (\"Scrooge\", \"Ghost of Jacob Marley\", \"Event-Occurrence\", \"Plot-Development\"), \\n (\"Scrooge\", \"Ghost of Jacob Marley\", \"Item-Possession\", \"Occupation-Profession\"), \\n (\"Scrooge\", \"Ghost of Jacob Marley\", \"Character-Affiliation\", \"Character-Relationship\"), \\n (\"Scrooge\", \"Ghost of Jacob Marley\", \"Plot-Development\", \"Plot-Development\"), \\n (\"Scrooge\", \"Ghost of Jacob Marley\", \"Occupation-Profession\", \"Occupation-Profession\"), \\n (\"Scrooge\", \"Ghost of Jacob Marley\", \"Personality-Trait\", \"Character-Affiliation\"), \\n (\"Scrooge\", \"Ghost of Jacob Marley\", \"Age-Information\", \"Character-Affiliation\"), \\n (\"Scrooge\", \"Ghost of Jacob Marley\", \"Setting-Timeframe\", \"Plot-Development\"), \\n (\"Scrooge\", \"Ghost of Jacob Marley\", \"Event-Occurrence\", \"Plot-Development\"), \\n (\"Scrooge\", \"Ghost of Jacob Marley\", \"Item-Possession\", \"Occupation-Profession\"), \\n (\"Scrooge\", \"Ghost of Jacob Marley\", \"Character-Affiliation\", \"Character-Relationship\"), \\n (\"Scrooge\", \"Ghost of Jacob Marley\", \"Plot-Development\", \"Plot-Development\"), \\n (\"Scrooge\", \"Ghost of Jacob Marley\", \"Occupation-Profession\", \"Occupation-Profession\"), \\n (\"Scrooge\", \"Ghost of Jacob Marley\", \"Personality-Trait\", \"Character-Affiliation\"), \\n (\"Scrooge\", \"Ghost of Jacob Marley\", \"Age-Information\", \"Character-Affiliation\"), \\n (\"Scrooge\", \"Ghost of Jacob Marley\", \"Setting-Timeframe\", \"Plot-Development\"), \\n (\"Scrooge\", \"Ghost of Jacob Marley\", \"Event-Occurrence\", \"Plot-Development\"), \\n (\"Scrooge\", \"Ghost of Jacob Marley\", \"Item-Possession\", \"Occupation-Profession\"), \\n (\"Scrooge\", \"Ghost of Jacob Marley\", \"Character-Affiliation\", \"Character-Relationship\"), \\n (\"Scrooge\", \"Ghost of Jacob Marley\", \"Plot-Development\", \"Plot-Development\"), \\n (\"Scrooge\", \"Ghost of Jacob Marley\", \"Occupation-Profession\", \"Occupation-Profession\"), \\n (\"Scrooge\", \"Ghost of Jacob Marley\", \"',\n",
       " '[(\"Scrooge\", \"Jacob Marley\", \"Character-Relationship\", \"Character-Affiliation\"), \\n (\"Scrooge\", \"Ghost of Jacob Marley\", \"Character-Relationship\", \"Character-Affiliation\"), \\n (\"Scrooge\", \"Marley\", \"Character-Relationship\", \"Character-Affiliation\"), \\n (\"Scrooge\", \"Jacob\", \"Character-Relationship\", \"Character-Affiliation\")]',\n",
       " '[(\"Scrooge\", \"Ghost of Jacob Marley\", \"Character-Relationship\", \"Character-Affiliation\"), \\n (\"Scrooge\", \"Jacob Marley\", \"Character-Relationship\", \"Character-Affiliation\"), \\n (\"Scrooge\", \"Marley\", \"business partner\", \"Character-Relationship\"), \\n (\"Scrooge\", \"Ghost of Jacob Marley\", \"employer\", \"Character-Relationship\"), \\n (\"Scrooge\", \"Ghost of Jacob Marley\", \"employee\", \"Character-Relationship\"), \\n (\"Jacob Marley\", \"Mankind\", \"Occupation-Profession\", \"Occupation-Profession\"), \\n (\"Jacob Marley\", \"Charity\", \"Personality-Trait\", \"Personality-Trait\"), \\n (\"Scrooge\", \"Business\", \"Occupation-Profession\", \"Occupation-Profession\")]',\n",
       " '[(\"Scrooge\", \"Ghost of Jacob Marley\", \"Character-Relationship\", \"Character-Affiliation\"), \\n (\"Scrooge\", \"Jacob Marley\", \"character acquaintance\", \"Character-Relationship\"), \\n (\"Scrooge\", \"Ebenezer\", \"friend\", \"Character-Relationship\"), \\n (\"Scrooge\", \"Ghost of Christmas Present\", \"visitor\", \"Character-Relationship\"), \\n (\"Scrooge\", \"Three Spirits\", \"haunter\", \"Event-Occurrence\"), \\n (\"Scrooge\", \"Christmas Time\", \"associated with\", \"Location-Association\"), \\n (\"Jacob Marley\", \"Scrooge\", \"friend\", \"Character-Relationship\"), \\n (\"Ghost of Jacob Marley\", \"Scrooge\", \"visitor\", \"Character-Relationship\")]',\n",
       " '[(\"Scrooge\", \"Marley\\'s Ghost\", \"Character-Relationship\", \"Character-Affiliation\"), \\n (\"Scrooge\", \"wandering Spirits\", \"Character-Relationship\", \"Character-Affiliation\"), \\n (\"Scrooge\", \"Ghost of Jacob Marley\", \"Character-Relationship\", \"Character-Affiliation\"), \\n (\"Marley\\'s Ghost\", \"wandering Spirits\", \"Character-Relationship\", \"Character-Affiliation\"), \\n (\"Scrooge\", \"window\", \"Location-Association\", \"Setting-Timeframe\"), \\n (\"Scrooge\", \"night\", \"Location-Association\", \"Setting-Timeframe\")]',\n",
       " '[(\"Scrooge\", \"window\", \"viewing\", \"Character-Relationship\"), \\n (\"Scrooge\", \"door\", \"examination\", \"Character-Relationship\"), \\n (\"Scrooge\", \"Ghost of Jacob Marley\", \"encounter\", \"Character-Relationship\"), \\n (\"Scrooge\", \"Christmas Time\", \"association\", \"Location-Association\"), \\n (\"Scrooge\", \"Past\", \"reference\", \"Location-Association\"), \\n (\"Scrooge\", \"Present\", \"reference\", \"Location-Association\"), \\n (\"Scrooge\", \"Future\", \"reference\", \"Location-Association\"), \\n (\"Scrooge\", \"Christmas Day\", \"mention\", \"Event-Occurrence\"), \\n (\"Scrooge\", \"clock\", \"correction\", \"Character-Relationship\"), \\n (\"Scrooge\", \"repeater\", \"use\", \"Character-Relationship\")]',\n",
       " '[(\"Scrooge\", \"Marley\\'s Ghost\", \"bothered by\", \"Character-Relationship\"),\\n (\"Scrooge\", \"Marley\\'s Ghost\", \"visited by\", \"Character-Relationship\"),\\n (\"Scrooge\", \"Mr. Ebenezer Scrooge\", \"payee of\", \"Item-Possession\"),\\n (\"Scrooge\", \"Christmas Time\", \"associated with\", \"Location-Association\"),\\n (\"Scrooge\", \"Past\", \"associated with\", \"Location-Association\"),\\n (\"Marley\\'s Ghost\", \"Scrooge\", \"visited by\", \"Character-Relationship\")]',\n",
       " '[(\"Scrooge\", \"Ghost of Jacob Marley\", \"Character-Relationship\", \"Character-Affiliation\"), \\n (\"Scrooge\", \"Christmas Time\", \"Event-Occurrence\", \"Event-Occurrence\"), \\n (\"Scrooge\", \"Christmas Day\", \"Event-Occurrence\", \"Event-Occurrence\")]',\n",
       " '[(\"Scrooge\", \"Ghost of Christmas Past\", \"Character-Relationship\", \"Character-Affiliation\"), \\n (\"Scrooge\", \"Ghost of Christmas Past\", \"Character-Relationship\", \"Character-Relationship\"), \\n (\"Scrooge\", \"Ghost of Christmas Past\", \"Character-Relationship\", \"Occupation-Profession\")]',\n",
       " '[(\"Scrooge\", \"Ghost of Christmas Past\", \"Character-Relationship\", \"Character-Affiliation\"), \\n (\"Scrooge\", \"Ghost of Christmas Past\", \"business partner\", \"Character-Relationship\"), \\n (\"Scrooge\", \"Ghost of Christmas Past\", \"friend\", \"Character-Relationship\"), \\n (\"Scrooge\", \"Ghost of Christmas Past\", \"Spirit\", \"Character-Relationship\"), \\n (\"Scrooge\", \"Ghost of Christmas Past\", \"reclamation\", \"Plot-Development\"), \\n (\"Scrooge\", \"Ghost of Christmas Past\", \"welfare\", \"Plot-Development\"), \\n (\"Scrooge\", \"Ghost of Christmas Past\", \"help\", \"Plot-Development\")]',\n",
       " '[(\"Scrooge\", \"boy\", \"childhood\", \"Character-Affiliation\"),\\n (\"Scrooge\", \"Ghost of Christmas Present\", \"guide\", \"Character-Relationship\"),\\n (\"Scrooge\", \"road\", \"location\", \"Location-Association\"),\\n (\"Scrooge\", \"market-town\", \"destination\", \"Location-Association\"),\\n (\"Scrooge\", \"bridge\", \"feature\", \"Location-Association\"),\\n (\"Scrooge\", \"church\", \"feature\", \"Location-Association\"),\\n (\"Scrooge\", \"winding river\", \"feature\", \"Location-Association\"),\\n (\"Scrooge\", \"gate\", \"feature\", \"Location-Association\"),\\n (\"Scrooge\", \"post\", \"feature\", \"Location-Association\"),\\n (\"Scrooge\", \"tree\", \"feature\", \"Location-Association\"),\\n (\"Scrooge\", \"Spirit\", \"guide\", \"Character-Relationship\"),\\n (\"Scrooge\", \"Ghost of Jacob Marley\", \"related entity\", \"Character-Relationship\"),\\n (\"boy\", \"road\", \"location\", \"Location-Association\"),\\n (\"boy\", \"market-town\", \"destination\", \"Location-Association\"),\\n (\"boy\", \"bridge\", \"feature\", \"Location-Association\"),\\n (\"boy\", \"church\", \"feature\", \"Location-Association\"),\\n (\"boy\", \"winding river\", \"feature\", \"Location-Association\"),\\n (\"boy\", \"gate\", \"feature\", \"Location-Association\"),\\n (\"boy\", \"post\", \"feature\", \"Location-Association\"),\\n (\"boy\", \"tree\", \"feature\", \"Location-Association\")]',\n",
       " '[(\"Scrooge\", \"Ghost of Jacob Marley\", \"Character-Relationship\", \"Character-Affiliation\"), \\n (\"Scrooge\", \"boy\", \"Character-Relationship\", \"Character-Affiliation\"), \\n (\"Scrooge\", \"Ghost of Christmas Present\", \"Character-Relationship\", \"Character-Affiliation\"), \\n (\"Scrooge\", \"wandering Spirits\", \"Character-Relationship\", \"Character-Affiliation\"), \\n (\"Scrooge\", \"boy\", \"employer\", \"Occupation-Profession\"), \\n (\"Scrooge\", \"Ghost of Jacob Marley\", \"business partner\", \"Character-Relationship\"), \\n (\"Scrooge\", \"Christmas Time\", \"association\", \"Location-Association\"), \\n (\"Scrooge\", \"Past\", \"association\", \"Location-Association\"), \\n (\"Scrooge\", \"Present\", \"association\", \"Location-Association\"), \\n (\"Scrooge\", \"Future\", \"association\", \"Location-Association\")]',\n",
       " '[(\"Scrooge\", \"Ali Baba\", \"Character-Relationship\", \"Character-Affiliation\"), \\n (\"Scrooge\", \"Valentine\", \"Character-Relationship\", \"Character-Affiliation\"), \\n (\"Scrooge\", \"Orson\", \"Character-Relationship\", \"Character-Affiliation\"), \\n (\"Scrooge\", \"Marley\", \"Character-Relationship\", \"Character-Affiliation\"), \\n (\"Scrooge\", \"Bob Cratchit\", \"Character-Relationship\", \"Character-Affiliation\"), \\n (\"Scrooge\", \"Fred\", \"Character-Relationship\", \"Character-Affiliation\"), \\n (\"Ali Baba\", \"boy\", \"Character-Relationship\", \"Character-Affiliation\"), \\n (\"Valentine\", \"Orson\", \"Character-Relationship\", \"Character-Affiliation\"), \\n (\"Marley\", \"Scrooge\", \"Character-Relationship\", \"Character-Affiliation\"), \\n (\"Bob Cratchit\", \"Tiny Tim\", \"Character-Relationship\", \"Character-Affiliation\")]',\n",
       " '[(\"Scrooge\", \"Ali Baba\", \"character-affiliation\", \"Character-Affiliation\"),\\n (\"Scrooge\", \"Robin Crusoe\", \"character-affiliation\", \"Character-Affiliation\"),\\n (\"Scrooge\", \"Parrot\", \"character-relationship\", \"Character-Relationship\"),\\n (\"Scrooge\", \"Friday\", \"character-relationship\", \"Character-Relationship\"),\\n (\"Scrooge\", \"boy\", \"character-relationship\", \"Character-Relationship\"),\\n (\"Scrooge\", \"Ghost of Christmas Present\", \"character-relationship\", \"Character-Relationship\"),\\n (\"Scrooge\", \"door\", \"location-association\", \"Location-Association\"),\\n (\"Scrooge\", \"window\", \"location-association\", \"Location-Association\"),\\n (\"Scrooe\", \"Christmas Time\", \"event-occurrence\", \"Event-Occurrence\"),\\n (\"Scrooe\", \"boy singing a Christmas Carol\", \"event-occurrence\", \"Event-Occurrence\"),\\n (\"Scrooe\", \"Ghost of Christmas Present\", \"plot-development\", \"Plot-Development\"),\\n (\"Scrooe\", \"door\", \"setting-timeframe\", \"Setting-Timeframe\"),\\n (\"Scrooe\", \"Christmas Day\", \"event-occurrence\", \"Event-Occurrence\"),\\n (\"boy\", \"door\", \"location-association\", \"Location-Association\"),\\n (\"boy\", \"window\", \"location-association\", \"Location-Association\"),\\n (\"Ghost of Christmas Present\", \"Scrooge\", \"character-relationship\", \"Character-Relationship\")]',\n",
       " '[(\"boy\", \"Fan\", \"sister\", \"Character-Relationship\"), \\n (\"boy\", \"Fan\", \"brother\", \"Character-Relationship\"), \\n (\"boy\", \"Father\", \"son\", \"Character-Relationship\"), \\n (\"boy\", \"Father\", \"child\", \"Character-Relationship\")]',\n",
       " '[(\"Scrooge\", \"Ghost of Jacob Marley\", \"Character-Relationship\", \"Character-Affiliation\"),\\n (\"Scrooge\", \"Ghost of Christmas Present\", \"Character-Relationship\", \"Character-Affiliation\"),\\n (\"Scrooge\", \"nephew\", \"family-member\", \"Character-Relationship\"),\\n (\"Scrooge\", \"Ghost of Christmas Present\", \"Spiritual-Guide\", \"Character-Relationship\"),\\n (\"Scrooge\", \"Ghost of Jacob Marley\", \"Moral-Lesson\", \"Plot-Development\"),\\n (\"Master Scrooge\", \"schoolmaster\", \"student\", \"Occupation-Profession\"),\\n (\"Master Scrooge\", \"schoolmaster\", \"teacher-student relationship\", \"Character-Relationship\"),\\n (\"boy\", \"Scrooge\", \"nephew\", \"family-member\"),\\n (\"Ghost of Jacob Marley\", \"Scrooge\", \"Spiritual-Guide\", \"Character-Relationship\")]',\n",
       " '[(\"Scrooge\", \"Dick Wilkins\", \"Character-Relationship\", \"Character-Affiliation\"), \\n (\"Scrooge\", \"Fezziwig\", \"Character-Relationship\", \"Occupation-Profession\"), \\n (\"Scrooge\", \"Dick Wilkins\", \"Character-Relationship\", \"Character-Relationship\"), \\n (\"Scrooge\", \"Fezziwig\", \"Character-Relationship\", \"Occupation-Profession\"), \\n (\"Scrooge\", \"Dick Wilkins\", \"employer\", \"Character-Affiliation\"), \\n (\"Scrooge\", \"Fezziwig\", \"business partner\", \"Occupation-Profession\")]',\n",
       " '[(\"Fezziwig\", \"Dick\", \"friend\", \"Character-Relationship\"), \\n (\"Fezziwig\", \"Ebenezer\", \"host\", \"Character-Affiliation\"), \\n (\"Fezziwig\", \"the lads\", \"boss\", \"Occupation-Profession\")]',\n",
       " '[(\"Fezziwig\", \"Mrs. Fezziwig\", \"family member\", \"Character-Relationship\"),\\n (\"Fezziwig\", \"Miss Fezziwigs\", \"family member\", \"Character-Relationship\"),\\n (\"Fezziwig\", \"young men and women employed in the business\", \"employer\", \"Character-Affiliation\"),\\n (\"housemaid\", \"cousin the baker\", \"relative\", \"Character-Relationship\"),\\n (\"cook\", \"brother\\'s particular friend the milkman\", \"family member\", \"Character-Relationship\"),\\n (\"boy from over the way\", \"master\", \"employee\", \"Character-Affiliation\"),\\n (\"girl from next door but one\", \"mistress\", \"employee\", \"Character-Affiliation\"),\\n (\"Fezziwig\", \"fiddler\", \"host\", \"Character-Affiliation\"),\\n (\"Fezziwig\", \"young men and women employed in the business\", \"employer\", \"Character-Relationship\"),\\n (\"Fezziwig\", \"housemaid\", \"employer\", \"Character-Relationship\"),\\n (\"Fezziwig\", \"cook\", \"employer\", \"Character-Relationship\")]',\n",
       " '[(\"Fezziwig\", \"Mrs. Fezziwig\", \"partner\", \"Character-Relationship\"),\\n (\"Fezziwig\", \"Mrs. Fezziwig\", \"dance partner\", \"Character-Relationship\"),\\n (\"Fezziwig\", \"Mr. Fezziwig\", \"spouse\", \"Character-Relationship\"),\\n (\"Fezziwig\", \"Mrs. Fezziwig\", \"couple\", \"Character-Relationship\")]',\n",
       " '[(\"Scrooge\", \"Fezziwig\", \"employer\", \"Character-Relationship\"), \\n (\"Scrooge\", \"Ghost of Jacob Marley\", \"business partner\", \"Character-Relationship\"), \\n (\"Scrooge\", \"Bob Cratchit\", \"employee\", \"Character-Relationship\"), \\n (\"Scrooge\", \"Fred\", \"friend\", \"Character-Relationship\"), \\n (\"Fezziwig\", \"apprentices\", \"employer\", \"Character-Relationship\")]',\n",
       " '[(\"Scrooge\", \"Girl\", \"Character-Relationship\", \"Character-Affiliation\"), \\n (\"Scrooge\", \"Ghost of Christmas Past\", \"Character-Relationship\", \"Character-Affiliation\"), \\n (\"Scrooge\", \"Girl\", \"employer\", \"Occupation-Profession\"), \\n (\"Scrooge\", \"Girl\", \"business partner\", \"Occupation-Profession\"), \\n (\"Scrooge\", \"Girl\", \"lover\", \"Character-Relationship\"), \\n (\"Scrooge\", \"Ghost of Christmas Past\", \"friend\", \"Character-Relationship\"), \\n (\"Scrooge\", \"Girl\", \"employee\", \"Occupation-Profession\")]',\n",
       " '[(\"Scrooge\", \"Girl\", \"Character-Relationship\", \"Character-Relationship\"), \\n (\"Scrooge\", \"Ghost of Jacob Marley\", \"Character-Affiliation\", \"Character-Affiliation\"), \\n (\"Girl\", \"Scrooge\", \"Character-Relationship\", \"Character-Relationship\")]',\n",
       " '[(\"Scrooge\", \"Ghost of Jacob Marley\", \"conflict-involvement\", \"Character-Relationship\"), \\n (\"Scrooge\", \"Ghost of Jacob Marley\", \"employer\", \"Character-Relationship\"), \\n (\"Scrooge\", \"Ghost of Jacob Marley\", \"torture\", \"Character-Relationship\")]',\n",
       " '[(\"Scrooge\", \"Ghost of Jacob Marley\", \"Character-Relationship\", \"Character-Affiliation\"), \\n (\"Scrooge\", \"Ghost of Jacob Marley\", \"Conflict-Involvement\", \"Event-Occurrence\"), \\n (\"Scrooge\", \"Girl\", \"Character-Relationship\", \"Character-Relationship\"), \\n (\"Scrooge\", \"Girl\", \"Plot-Development\", \"Plot-Development\"), \\n (\"Scrooge\", \"Girl\", \"Personality-Trait\", \"Personality-Trait\"), \\n (\"Scrooge\", \"Ghost of Jacob Marley\", \"Occupation-Profession\", \"Character-Affiliation\")]',\n",
       " '[(\"Scrooge\", \"Belle\", \"Character-Relationship\", \"Character-Affiliation\"), \\n (\"Scrooge\", \"Marley\", \"Character-Relationship\", \"Character-Affiliation\"), \\n (\"Scrooge\", \"Bob Cratchit\", \"Character-Relationship\", \"Character-Affiliation\"), \\n (\"Belle\", \"Mr. Scrooge\", \"Character-Relationship\", \"Character-Affiliation\")]',\n",
       " '[(\"Scrooge\", \"Marley\", \"business partner\", \"Character-Relationship\"), \\n (\"Scrooge\", \"Ghost of Jacob Marley\", \"haunter\", \"Character-Relationship\"), \\n (\"Scrooge\", \"Ghost of Christmas Present\", \"haunter\", \"Character-Relationship\"), \\n (\"Scrooge\", \"his wife\", \"husband\", \"Character-Relationship\"), \\n (\"Marley\\'s partner\", \"Marley\", \"business partner\", \"Character-Relationship\")]',\n",
       " '[(\"Scrooge\", \"Jacob Marley\", \"Character-Relationship\", \"Character-Affiliation\"), \\n (\"Scrooge\", \"Marley\", \"character affiliation\", \"Character-Affiliation\"), \\n (\"Scrooge\", \"Bob Cratchit\", \"employer\", \"Occupation-Profession\")]',\n",
       " '[(\"Scrooge\", \"door\", \"location\", \"Location-Association\"), \\n (\"Scrooge\", \"adjacent room\", \"location\", \"Location-Association\"), \\n (\"Scrooge\", \"voice\", \"entity\", \"Character-Affiliation\"), \\n (\"Scrooge\", \"voice\", \"relation\", \"Character-Relationship\")]',\n",
       " '[(\"Scrooge\", \"Ghost of Christmas Present\", \"Character-Relationship\", \"Character-Affiliation\"), \\n (\"Scrooge\", \"Ghost of Christmas Present\", \"employer\", \"Character-Relationship\"), \\n (\"Scrooge\", \"Ghost of Christmas Present\", \"employee\", \"Character-Relationship\"), \\n (\"Scrooge\", \"Ghost of Christmas Present\", \"client\", \"Character-Relationship\"), \\n (\"Scrooge\", \"Ghost of Christmas Present\", \"friend\", \"Character-Relationship\")]',\n",
       " '[(\"Scrooge\", \"Ghost of Christmas Present\", \"Character-Relationship\", \"Character-Affiliation\"), \\n (\"Scrooge\", \"Ghost of Christmas Present\", \"Character-Relationship\", \"Character-Relationship\"), \\n (\"Scrooge\", \"Marley\", \"Character-Relationship\", \"Character-Relationship\"), \\n (\"Scrooge\", \"Bob Cratchit\", \"Character-Relationship\", \"Character-Affiliation\"), \\n (\"Scrooge\", \"Ghost of Christmas Present\", \"Age-Information\", \"Personality-Trait\"), \\n (\"Scrooge\", \"Ghost of Christmas Present\", \"Occupation-Profession\", \"Occupation-Profession\"), \\n (\"Scrooge\", \"Ghost of Christmas Present\", \"Plot-Development\", \"Plot-Development\")]',\n",
       " '[(\"Scrooge\", \"Christmas morning\", \"location\", \"Setting-Timeframe\"), \\n(\"Scrooge\", \"city streets\", \"location\", \"Setting-Timeframe\"), \\n(\"Scrooge\", \"Great Britain\", \"location\", \"Setting-Timeframe\")]',\n",
       " '[(\"people\", \"shopkeepers\", \"Character-Affiliation\", \"Character-Relationship\"), \\n (\"poulterers\", \"fruiterers\", \"Character-Affiliation\", \"Character-Relationship\"), \\n (\"Scrooge\", \"Marley\", \"Character-Relationship\", \"Character-Relationship\"), \\n (\"Bob Cratchit\", \"Fred\", \"Character-Relationship\", \"Character-Relationship\"), \\n (\"girl\", \"boy\", \"Character-Relationship\", \"Character-Relationship\")]',\n",
       " '[(\"Grocer\", \"people\", \"employee\", \"Character-Relationship\"), \\n (\"customers\", \"each other\", \"collision\", \"Event-Occurrence\"), \\n (\"customers\", \"counter\", \"purchase\", \"Item-Possession\"), \\n (\"Grocer\", \"aprons\", \"owner\", \"Character-Affiliation\")]',\n",
       " '[(\"Scrooge\", \"Spirit\", \"employer\", \"Character-Relationship\"),\\n (\"Scrooge\", \"Spirit\", \"business partner\", \"Character-Relationship\"),\\n (\"Scrooge\", \"Spirit\", \"friend\", \"Character-Relationship\"),\\n (\"Spirit\", \"dinner-carriers\", \"helper\", \"Character-Relationship\"),\\n (\"Scrooge\", \"bakers\", \"customer\", \"Character-Relationship\"),\\n (\"Scrooge\", \"Spirit\", \"debater\", \"Character-Relationship\")]',\n",
       " '[(\"Scrooge\", \"Ghost of Christmas Present\", \"Character-Relationship\", \"Character-Affiliation\"), \\n (\"Scrooge\", \"Bob Cratchit\", \"employer\", \"Occupation-Profession\"), \\n (\"Scrooge\", \"Marley\", \"business partner\", \"Character-Relationship\"), \\n (\"Ghost of Christmas Present\", \"Christmas Time\", \"associated with\", \"Location-Association\"), \\n (\"Ghost of Christmas Present\", \"Past\", \"associated with\", \"Setting-Timeframe\"), \\n (\"Ghost of Christmas Present\", \"Present\", \"associated with\", \"Setting-Timeframe\"), \\n (\"Scrooge\", \"Christmas Day\", \"involved in\", \"Event-Occurrence\")]',\n",
       " '[(\"Mrs. Cratchit\", \"Bob Cratchit\", \"spouse\", \"Character-Relationship\"),\\n (\"Belinda Cratchit\", \"Bob Cratchit\", \"sister\", \"Character-Relationship\"),\\n (\"Master Peter Cratchit\", \"Bob Cratchit\", \"son\", \"Character-Relationship\"),\\n (\"Mrs. Cratchit\", \"Martha\", \"daughter\", \"Character-Relationship\"),\\n (\"Master Peter Cratchit\", \"Tiny Tim\", \"brother\", \"Character-Relationship\"),\\n (\"Mrs. Cratchit\", \"Tiny Tim\", \"mother\", \"Character-Relationship\"),\\n (\"Bob Cratchit\", \"Tiny Tim\", \"father\", \"Character-Relationship\")]',\n",
       " '[(\"Mrs. Cratchit\", \"Martha\", \"mother\", \"Character-Relationship\"), \\n (\"Bob Cratchit\", \"Tiny Tim\", \"father\", \"Character-Relationship\"), \\n (\"Bob Cratchit\", \"Martha\", \"son\", \"Character-Relationship\"), \\n (\"Bob Cratchit\", \"Cratchits\", \"family member\", \"Character-Affiliation\"), \\n (\"Mrs. Cratchit\", \"Christmas Day\", \"host\", \"Event-Occurrence\"), \\n (\"Bob Cratchit\", \"Christmas Day\", \"guest\", \"Event-Occurrence\"), \\n (\"Tiny Tim\", \"Christmas Day\", \"participant\", \"Event-Occurrence\"), \\n (\"Martha\", \"Bob Cratchit\", \"child\", \"Character-Relationship\"), \\n (\"Bob Cratchit\", \"Tiny Tim\", \"caregiver\", \"Character-Relationship\")]',\n",
       " '[(\"Tiny Tim\", \"Bob Cratchit\", \"parent\", \"Character-Relationship\"), \\n (\"Master Peter\", \"Mrs. Cratchit\", \"child\", \"Character-Relationship\"), \\n (\"Miss Belinda\", \"Mrs. Cratchit\", \"child\", \"Character-Relationship\"), \\n (\"Martha\", \"Mrs. Cratchit\", \"child\", \"Character-Relationship\"), \\n (\"Bob\", \"Tiny Tim\", \"caregiver\", \"Character-Relationship\")]',\n",
       " '[(\"Mrs. Cratchit\", \"Christmas pudding\", \"item-poseession\", \"Item-Possession\"),\\n (\"Mrs. Cratchit\", \"family\", \"family member\", \"Character-Affiliation\"),\\n (\"Bob Cratchit\", \"Christmas pudding\", \"appreciation\", \"Personality-Trait\"),\\n (\"Scrooge\", \"Christmas goose\", \"disbelief\", \"Personality-Trait\"),\\n (\"Bob Cratchit\", \"Mrs. Cratchit\", \"admiration\", \"Character-Relationship\"),\\n (\"Mrs. Cratchit\", \"Bob Cratchit\", \"affection\", \"Character-Relationship\")]',\n",
       " '[(\"Scrooge\", \"Tiny Tim\", \"concern for well-being\", \"Character-Relationship\"), \\n (\"Scrooge\", \"Ghost of Jacob Marley\", \"advice seeker\", \"Character-Relationship\"), \\n (\"Bob Cratchit\", \"Tiny Tim\", \"father-child relationship\", \"Character-Relationship\"), \\n (\"Scrooge\", \"Bob Cratchit\", \"friendship\", \"Character-Relationship\")]',\n",
       " '[(\"Scrooge\", \"Bob Cratchit\", \"family member\", \"Character-Relationship\"),\\n (\"Scrooge\", \"Mrs. Cratchit\", \"family member\", \"Character-Relationship\"),\\n (\"Scrooge\", \"Tiny Tim\", \"family member\", \"Character-Relationship\"),\\n (\"Scrooge\", \"Bob\", \"friend\", \"Character-Relationship\"),\\n (\"Scrooge\", \"Marley\", \"business partner\", \"Character-Relationship\")]',\n",
       " '[(\"Scrooge\", \"Bob Cratchit\", \"employer\", \"Character-Relationship\"),\\n (\"Bob Cratchit\", \"Peter Cratchit\", \"son\", \"Character-Relationship\"),\\n (\"Martha\", \"milliner\", \"employee\", \"Occupation-Profession\"),\\n (\"Tiny Tim\", \"family\", \"member\", \"Character-Relationship\"),\\n (\"Scrooge\", \"Tiny Tim\", \"observer\", \"Character-Relationship\")]',\n",
       " '[(\"Scrooge\", \"Ghost of Jacob Marley\", \"Character-Relationship\", \"Character-Affiliation\"),\\n (\"Scrooge\", \"Christmas Time\", \"Event-Occurrence\", \"Setting-Timeframe\"),\\n (\"Scrooge\", \"Present\", \"Event-Occurrence\", \"Setting-Timeframe\"),\\n (\"Scrooge\", \"Future\", \"Event-Occurrence\", \"Setting-Timeframe\"),\\n (\"Ghost of Jacob Marley\", \"Past\", \"Event-Occurrence\", \"Setting-Timeframe\"),\\n (\"Bob Cratchit\", \"Christmas Day\", \"Event-Occurrence\", \"Plot-Development\"),\\n (\"Fred\", \"Christmas Day\", \"Event-Occurrence\", \"Plot-Development\"),\\n (\"Tiny Tim\", \"Christmas Day\", \"Event-Occurrence\", \"Plot-Development\")]',\n",
       " '[(\"Scrooge\", \"Miners\", \"employer\", \"Character-Affiliation\"), \\n(\"Scrooge\", \"Ghost of Jacob Marley\", \"business partner\", \"Character-Relationship\"), \\n(\"Scrooge\", \"Bob Cratchit\", \"employee\", \"Character-Affiliation\"), \\n(\"Scrooge\", \"Christmas Time\", \"associated with\", \"Location-Association\"), \\n(\"Miners\", \"earth\", \"workplace\", \"Location-Association\"), \\n(\"Ghost of Jacob Marley\", \"Spirits of all Three\", \"related to\", \"Character-Relationship\")]',\n",
       " '[(\"Scrooge\", \"Ghost of Jacob Marley\", \"Character-Relationship\", \"Character-Affiliation\"),\\n (\"Scrooge\", \"Fred\", \"Character-Relationship\", \"Character-Relationship\"),\\n (\"Scrooge\", \"Bob Cratchit\", \"Character-Relationship\", \"Character-Relationship\"),\\n (\"Marley\", \"Scrooge\", \"Character-Relationship\", \"Character-Affiliation\")]',\n",
       " '[(\"Scrooge\", \"nephew\", \"family member\", \"Character-Relationship\"),\\n (\"Scrooge\", \"niece\", \"sister-in-law\", \"Character-Relationship\"),\\n (\"Scrooge\\'s nephew\", \"Fred\", \"friend\", \"Character-Relationship\"),\\n (\"Scrooge\\'s niece\", \"Fred\", \"friend\", \"Character-Relationship\"),\\n (\"Scrooge\", \"Christmas Time\", \"associated with\", \"Event-Occurrence\"),\\n (\"Scrooge\", \"nephew\", \"laughing together\", \"Event-Occurrence\"),\\n (\"Scrooge\\'s nephew\", \"niece\", \"laughing together\", \"Event-Occurrence\")]',\n",
       " '[(\"Scrooge\", \"Fred\", \"Character-Relationship\", \"Character-Affiliation\"), \\n (\"Scrooge\", \"nephew\", \"Character-Relationship\", \"Character-Affiliation\"), \\n (\"Scrooge\", \"niece\", \"Character-Relationship\", \"Character-Affiliation\"), \\n (\"Scrooge\\'s nephew\", \"Fred\", \"Character-Relationship\", \"Character-Affiliation\"), \\n (\"Scrooge\\'s niece\", \"Fred\", \"Character-Relationship\", \"Character-Affiliation\"), \\n (\"Topper\", \"the plump sister\", \"Character-Relationship\", \"Character-Affiliation\"), \\n (\"Scrooge\\'s nephew\", \"nephew\", \"Character-Relationship\", \"Character-Affiliation\"), \\n (\"Scrooge\\'s niece\", \"sister\", \"Character-Relationship\", \"Character-Affiliation\")]',\n",
       " '[(\"Scrooge\", \"nephew\", \"family member\", \"Character-Relationship\"),\\n (\"Scrooge\", \"plump sister\", \"sister\", \"Character-Relationship\"),\\n (\"Scrooge\", \"Bob Cratchit\", \"uncle\", \"Character-Relationship\"),\\n (\"Scrooge\\'s nephew\", \"Scrooge\", \"nephew\", \"Character-Relationship\"),\\n (\"Scrooge\\'s nephew\", \"plump sister\", \"cousin\", \"Character-Relationship\"),\\n (\"Scrooge\\'s nephew\", \"Bob Cratchit\", \"brother-in-law\", \"Character-Relationship\")]',\n",
       " '[(\"Scrooge\", \"Ghost of Christmas Past\", \"Character-Relationship\", \"Character-Affiliation\"), \\n (\"Scrooge\", \"Jacob Marley\", \"Character-Relationship\", \"Character-Relationship\"), \\n (\"Scrooge\", \"Topper\", \"Character-Relationship\", \"Character-Relationship\"), \\n (\"Scrooge\\'s niece\", \"Scrooge\", \"Family-Relationship\", \"Character-Affiliation\"), \\n (\"Ghost of Christmas Past\", \"Jacob Marley\", \"Character-Relationship\", \"Character-Relationship\")]',\n",
       " '[(\"Scrooge\", \"Ghost of Christmas Present\", \"business partner\", \"Character-Relationship\"),\\n (\"Scrooge\\'s nephew\", \"Ghost of Christmas Present\", \"business partner\", \"Character-Relationship\"),\\n (\"Topper\", \"Scrooge\\'s nephew\", \"business partner\", \"Character-Relationship\"),\\n (\"Ghost of Christmas Present\", \"the plump sister\", \"chaser\", \"Character-Relationship\"),\\n (\"Ghost of Christmas Present\", \"the plump sister\", \"pursuer\", \"Character-Relationship\")]',\n",
       " '[(\"Scrooge\", \"Ghost of Jacob Marley\", \"Character-Relationship\", \"Character-Affiliation\"), \\n (\"Scrooge\", \"nephew\", \"Character-Relationship\", \"Character-Relationship\"), \\n (\"Scrooge\", \"Ghost of Jacob Marley\", \"employer\", \"Occupation-Profession\"), \\n (\"Scrooge\", \"Ghost of Jacob Marley\", \"friend\", \"Character-Relationship\"), \\n (\"Scrooge\\'s niece\", \"Scrooge\", \"family member\", \"Character-Relationship\"), \\n (\"Scrooge\\'s nephew\", \"Scrooge\", \"family member\", \"Character-Relationship\"), \\n (\"Scrooge\", \"Ghost of Jacob Marley\", \"host\", \"Occupation-Profession\")]',\n",
       " '[(\"Scrooge\", \"Fred\", \"Character-Relationship\", \"Character-Affiliation\"), \\n (\"Scrooge\", \"nephew\", \"Character-Relationship\", \"Character-Affiliation\"), \\n (\"Scrooge\", \"the plump sister\", \"Character-Relationship\", \"Character-Affiliation\"), \\n (\"Scrooge\", \"Fred\", \"employer\", \"Character-Relationship\"), \\n (\"Scrooge\", \"Marley\", \"business partner\", \"Character-Relationship\")]',\n",
       " '[(\"Scrooge\", \"Uncle Scrooge\", \"character-affiliation\", \"Character-Affiliation\"),\\n (\"Scrooge\\'s nephew\", \"Scrooge\", \"family relationship\", \"Character-Relationship\"),\\n (\"Ghost of Jacob Marley\", \"Scrooge\", \"visit\", \"Event-Occurrence\"),\\n (\"Scrooge\", \"Ghost of Christmas Present\", \"visit\", \"Event-Occurrence\"),\\n (\"Scrooge\", \"Christmas Time\", \"association\", \"Location-Association\"),\\n (\"Scrooge\", \"Past\", \"association\", \"Location-Association\"),\\n (\"Scrooge\", \"Present\", \"association\", \"Location-Association\"),\\n (\"Scrooge\", \"Future\", \"association\", \"Location-Association\"),\\n (\"Ghost of Christmas Present\", \"Scrooge\", \"age information\", \"Age-Information\"),\\n (\"Scrooge\", \"Ghost of Christmas Present\", \"age difference\", \"Age-Information\")]',\n",
       " '[(\"Scrooge\", \"Ghost of Jacob Marley\", \"Character-Relationship\", \"Character-Affiliation\"),\\n (\"Scrooge\", \"boy\", \"Character-Relationship\", \"Character-Affiliation\"),\\n (\"Scrooge\", \"girl\", \"Character-Relationship\", \"Character-Affiliation\"),\\n (\"Scrooge\", \"Ghost of Jacob Marley\", \"Conflict-Involvement\", \"Plot-Development\"),\\n (\"Scrooge\", \"Ghost of Jacob Marley\", \"Occupation-Profession\", \"Character-Relationship\"),\\n (\"boy\", \"girl\", \"Personality-Trait\", \"Character-Affiliation\"),\\n (\"Scrooge\", \"Christmas Time\", \"Event-Occurrence\", \"Setting-Timeframe\")]',\n",
       " '[(\"Scrooge\", \"Ignorance\", \"employer\", \"Character-Relationship\"), \\n (\"Scrooge\", \"Want\", \"employer\", \"Character-Relationship\"), \\n (\"Scrooge\", \"Doom\", \"cause\", \"Character-Relationship\"), \\n (\"Scrooge\", \"Ghost of Christmas Yet to Come\", \"interactor\", \"Character-Relationship\"), \\n (\"Ignorance\", \"Want\", \"companion\", \"Character-Relationship\"), \\n (\"Jacob Marley\", \"Scrooge\", \"predictor\", \"Character-Relationship\"), \\n (\"Christmas Time\", \"Past\", \"associated_with\", \"Setting-Timeframe\"), \\n (\"Christmas Time\", \"Present\", \"associated_with\", \"Setting-Timeframe\"), \\n (\"Christmas Time\", \"Future\", \"associated_with\", \"Setting-Timeframe\")]',\n",
       " '[(\"Scrooge\", \"Spirit\", \"follows\", \"Character-Relationship\"), \\n (\"Scrooge\", \"Spirit\", \"fears\", \"Character-Relationship\"), \\n (\"Scrooge\", \"Ghost of the Future\", \"speaks to\", \"Character-Relationship\"), \\n (\"Scrooge\", \"City\", \"is in\", \"Location-Association\"), \\n (\"Scrooge\", \"Christmas Time\", \"experiences\", \"Setting-Timeframe\")]',\n",
       " '[(\"Scrooge\", \"great fat man with a monstrous chin\", \"friend\", \"Character-Relationship\"),\\n (\"Scrooge\", \"red-faced gentleman with a pendulous excrescence on the end of his nose\", \"friend\", \"Character-Relationship\"),\\n (\"Scrooge\", \"first speaker\", \"friend\", \"Character-Relationship\"),\\n (\"great fat man with a monstrous chin\", \"red-faced gentleman with a pendulous excrescence on the end of his nose\", \"acquaintance\", \"Character-Relationship\"),\\n (\"Scrooge\", \"Spirit\", \"observer\", \"Character-Relationship\")]',\n",
       " '[(\"Scrooge\", \"men of business\", \"employer\", \"Character-Relationship\"),\\n (\"Scrooge\", \"Jacob Marley\", \"business partner\", \"Character-Relationship\"),\\n (\"Scrooge\", \"Bob Cratchit\", \"employee\", \"Character-Relationship\"),\\n (\"Scrooge\", \"Ghost of Jacob Marley\", \"related to death\", \"Character-Relationship\"),\\n (\"men of business\", \"each other\", \"colleagues\", \"Character-Relationship\")]',\n",
       " '[(\"Scrooge\", \"Phantom\", \"Character-Relationship\", \"Character-Affiliation\"), \\n (\"Scrooge\", \"Marley\", \"Character-Relationship\", \"Character-Affiliation\"), \\n (\"Scrooge\", \"the town\", \"Location-Association\", \"Setting-Timeframe\"), \\n (\"Scrooge\", \"the shop\", \"Location-Association\", \"Setting-Timeframe\"), \\n (\"Scrooge\", \"the grey-haired rascal\", \"Occupation-Profession\", \"Character-Affiliation\")]',\n",
       " '[(\"Mrs. Dilber\", \"laundress\", \"Occupation-Profession\", \"Character-Affiliation\"), \\n (\"old Joe\", \"charwoman\", \"Occupation-Profession\", \"Character-Affiliation\"), \\n (\"the laundress\", \"laundress\", \"Occupation-Profession\", \"Character-Affiliation\"), \\n (\"Mrs. Dilber\", \"undertaker\\'s man\", \"Occupation-Profession\", \"Character-Affiliation\"), \\n (\"old Joe\", \"charwoman\", \"Occupation-Profession\", \"Character-Affiliation\"), \\n (\"the laundress\", \"laundress\", \"Occupation-Profession\", \"Character-Affiliation\")]',\n",
       " '[(\"Mrs. Dilber\", \"old Joe\", \"friend\", \"Character-Relationship\"), \\n (\"Mrs. Dilber\", \"woman\", \"friend\", \"Character-Relationship\"), \\n (\"old Joe\", \"Mrs. Dilber\", \"friend\", \"Character-Relationship\"), \\n (\"woman\", \"old Joe\", \"friend\", \"Character-Relationship\")]',\n",
       " '[(\"Mrs. Dilber\", \"Joe\", \"Character-Relationship\", \"Character-Affiliation\"), \\n(\"old Joe\", \"ladies\", \"Character-Relationship\", \"Character-Affiliation\"), \\n(\"the woman\", \"He\", \"Character-Relationship\", \"Character-Affiliation\"), \\n(\"the woman\", \"Joe\", \"Character-Relationship\", \"Character-Affiliation\"), \\n(\"Mrs. Dilber\", \"Scrooge\", \"Character-Relationship\", \"Character-Affiliation\")]',\n",
       " '[(\"Scrooge\", \"old Joe\", \"employer\", \"Character-Relationship\"),\\n (\"Scrooge\", \"woman with a laugh\", \"customer\", \"Character-Relationship\"),\\n (\"Scrooge\", \"Ghost of Jacob Marley\", \"Spirit\", \"Character-Relationship\"),\\n (\"Scrooge\", \"unhappy man\", \"potential self\", \"Plot-Development\"),\\n (\"old Joe\", \"woman with a laugh\", \"business partner\", \"Character-Relationship\"),\\n (\"Scrooge\", \"himself\", \"person in danger\", \"Plot-Development\")]',\n",
       " '[(\"Scrooge\", \"Jacob Marley\", \"Character-Relationship\", \"Character-Affiliation\"), \\n (\"Scrooge\", \"Ghost of Jacob Marley\", \"Character-Relationship\", \"Character-Affiliation\"), \\n (\"Scrooge\", \"Bob Cratchit\", \"Character-Relationship\", \"Occupation-Profession\"), \\n (\"Scrooge\", \"Marley\", \"Character-Relationship\", \"Occupation-Profession\"), \\n (\"Scrooge\", \"Ghost of Jacob Marley\", \"Plot-Development\", \"Event-Occurrence\")]',\n",
       " '[(\"Caroline\", \"her husband\", \"spouse\", \"Character-Relationship\"),\\n(\"Caroline\", \"her children\", \"parent\", \"Character-Relationship\"),\\n(\"Caroline\\'s husband\", \"Caroline\", \"wife\", \"Character-Relationship\"),\\n(\"Caroline\\'s husband\", \"the money\", \"debtor\", \"Item-Possession\"),\\n(\"Caroline\", \"the debt\", \"creditor\", \"Item-Possession\"),\\n(\"Caroline\\'s husband\", \"Jacob Marley\", \"creditor\", \"Character-Affiliation\"),\\n(\"Caroline\\'s husband\", \"Christmas Time\", \"timeframe\", \"Setting-Timeframe\")]',\n",
       " '[(\"Scrooge\", \"Bob Cratchit\", \"Character-Relationship\", \"Character-Affiliation\"), \\n (\"Scrooge\", \"Tiny Tim\", \"Character-Relationship\", \"Character-Affiliation\"), \\n (\"Scrooge\", \"Ghost of Jacob Marley\", \"Character-Relationship\", \"Character-Affiliation\"), \\n (\"Cratchit\\'s wife\", \"Bob Cratchit\", \"Character-Relationship\", \"Character-Affiliation\"), \\n (\"Peter\", \"Bob Cratchit\", \"Child-Parent\", \"Character-Relationship\")]',\n",
       " '[(\"Tiny Tim\", \"Bob Cratchit\", \"parent\", \"Character-Relationship\"), \\n (\"Scrooge\", \"Marley\", \"business partner\", \"Character-Relationship\"), \\n (\"Scrooge\", \"Bob Cratchit\", \"employer\", \"Character-Relationship\"), \\n (\"Bob Cratchit\", \"Tiny Tim\", \"child\", \"Character-Relationship\"), \\n (\"Bob Cratchit\", \"Mrs. Cratchit\", \"spouse\", \"Character-Relationship\"), \\n (\"Peter\", \"Scrooge\", \"friend\", \"Character-Relationship\"), \\n (\"Bob Cratchit\", \"Fred\", \"colleague\", \"Character-Relationship\"), \\n (\"Tiny Tim\", \"Christmas Time\", \"associated with\", \"Location-Association\"), \\n (\"Christmas Day\", \"Bob Cratchit\", \"occurred to\", \"Event-Occurrence\"), \\n (\"saucepan\", \"Mrs. Cratchit\", \"owned by\", \"Item-Possession\")]',\n",
       " '[(\"Scrooge\", \"nephew\", \"Character-Relationship\", \"Character-Affiliation\"), \\n (\"Scrooge\", \"Marley\", \"business partner\", \"Character-Relationship\"), \\n (\"Bob Cratchit\", \"Tiny Tim\", \"family member\", \"Character-Relationship\"), \\n (\"Mr. Scrooge\\'s nephew\", \"Bob Cratchit\", \"helped\", \"Character-Affiliation\"), \\n (\"Scrooge\\'s nephew\", \"Cratchit family\", \"helped\", \"Character-Affiliation\")]',\n",
       " '[(\"Scrooge\", \"Tiny Tim\", \"Character-Relationship\", \"Character-Affiliation\"), \\n (\"Scrooge\", \"Marley\", \"Character-Relationship\", \"Character-Affiliation\"), \\n (\"Bob Cratchit\", \"Peter\", \"Family-Relationship\", \"Character-Relationship\"), \\n (\"Bob Cratchit\", \"Mrs. Cratchit\", \"Spouse-Relationship\", \"Character-Relationship\"), \\n (\"Scrooge\", \"Ghost of Christmas Yet To Come\", \"Occupation-Profession\", \"Character-Affiliation\"), \\n (\"Scrooge\", \"Ghost of Christmas Present\", \"Occupation-Profession\", \"Character-Affiliation\"), \\n (\"Bob Cratchit\", \"Tiny Tim\", \"Parent-Child\", \"Family-Relationship\")]',\n",
       " '[(\"Scrooge\", \"his office\", \"occupant\", \"Occupation-Profession\"), \\n (\"Scrooge\", \"the house\", \"owner\", \"Character-Affiliation\"), \\n (\"Scrooge\", \"the churchyard\", \"visitor\", \"Event-Occurrence\"), \\n (\"Scrooge\", \"the grave\", \"subject\", \"Plot-Development\"), \\n (\"Scrooge\", \"his name on the stone\", \"subject\", \"Plot-Development\"), \\n (\"The Spirit\", \"the grave\", \"pointer\", \"Character-Relationship\"), \\n (\"The Spirit\", \"Scrooge\", \"guide\", \"Character-Relationship\")]',\n",
       " '[(\"Scrooge\", \"Jacob Marley\", \"Character-Relationship\", \"Character-Affiliation\"), \\n (\"Scrooge\", \"Christmas Time\", \"Event-Occurrence\", \"Event-Occurrence\"), \\n (\"Scrooge\", \"Past\", \"Personality-Trait\", \"Personality-Trait\"), \\n (\"Scrooge\", \"Present\", \"Personality-Trait\", \"Personality-Trait\"), \\n (\"Scrooge\", \"Future\", \"Personality-Trait\", \"Personality-Trait\"), \\n (\"Scrooge\", \"Spirits of all Three\", \"Character-Relationship\", \"Character-Affiliation\"), \\n (\"Scrooge\", \"Ghost of Christmas Present\", \"Character-Relationship\", \"Character-Affiliation\"), \\n (\"Scrooge\", \"Christmas Day\", \"Event-Occurrence\", \"Event-Occurrence\")]',\n",
       " '[(\"Scrooge\", \"Ghost of Jacob Marley\", \"Character-Relationship\", \"Character-Affiliation\"), \\n (\"Scrooge\", \"Ghost of Christmas Present\", \"Character-Relationship\", \"Character-Affiliation\"), \\n (\"Scrooge\", \"wandering Spirits\", \"Character-Relationship\", \"Character-Affiliation\"), \\n (\"Scrooge\", \"saucepan\", \"Item-Possession\", \"Item-Possession\"), \\n (\"Scrooge\", \"door\", \"Location-Association\", \"Location-Association\"), \\n (\"Scrooge\", \"corner\", \"Location-Association\", \"Location-Association\"), \\n (\"Scrooge\", \"window\", \"Location-Association\", \"Location-Association\"), \\n (\"Scrooge\", \"Christmas Time\", \"Setting-Timeframe\", \"Setting-Timeframe\"), \\n (\"Scrooge\", \"Past\", \"Setting-Timeframe\", \"Setting-Timeframe\"), \\n (\"Scrooge\", \"Present\", \"Setting-Timeframe\", \"Setting-Timeframe\"), \\n (\"Scrooge\", \"Future\", \"Setting-Timeframe\", \"Setting-Timeframe\"), \\n (\"Scrooge\", \"Christmas Day\", \"Event-Occurrence\", \"Event-Occurrence\")]',\n",
       " '[(\"Scrooge\", \"boy\", \"employer\", \"Character-Relationship\"),\\n (\"Scrooge\", \"Poulterer\\'s\", \"customer\", \"Character-Affiliation\"),\\n (\"Scrooge\", \"Turkey\", \"buyer\", \"Item-Possession\"),\\n (\"Scrooge\", \"Christmas Day\", \"celebrant\", \"Event-Occurrence\"),\\n (\"boy\", \"Scrooge\", \"employee\", \"Character-Relationship\"),\\n (\"Scrooge\", \"Marley\", \" acquaintance\", \"Character-Relationship\")]',\n",
       " '[(\"Scrooge\", \"Bob Cratchit\", \"recipient\", \"Character-Relationship\"), \\n (\"Scrooge\", \"Tiny Tim\", \"comparison\", \"Character-Relationship\"), \\n (\"Scrooge\", \"Joe Miller\", \"reference\", \"Character-Relationship\"), \\n (\"Scrooge\", \"Turkey\", \"owner\", \"Item-Possession\"), \\n (\"Scrooge\", \"cab\", \"payer\", \"Item-Possession\"), \\n (\"Scrooge\", \"boy\", \"payer\", \"Item-Possession\")]',\n",
       " '[(\"Scrooge\", \"old gentleman\", \"Character-Relationship\", \"Character-Affiliation\"), \\n (\"Scrooge\", \"old gentleman\", \"Business Partner\", \"Character-Relationship\"), \\n (\"Scrooge\", \"old gentleman\", \"Friend\", \"Character-Relationship\")]',\n",
       " '[(\"Scrooge\", \"Fred\", \"Character-Relationship\", \"Character-Affiliation\"), \\n (\"Scrooge\", \"Girl\", \"Character-Relationship\", \"Character-Affiliation\"), \\n (\"Scrooge\", \"nephew\", \"Character-Relationship\", \"Character-Affiliation\"), \\n (\"Scrooge\", \"Topper\", \"Character-Relationship\", \"Character-Affiliation\"), \\n (\"Scrooge\", \"the plump sister\", \"Character-Relationship\", \"Character-Affiliation\")]',\n",
       " '[(\"Scrooge\", \"Bob Cratchit\", \"employer\", \"Character-Relationship\"),\\n (\"Scrooge\", \"Bob Cratchit\", \"employee\", \"Character-Relationship\"),\\n (\"Scrooge\", \"Bob Cratchit\", \"salary raiser\", \"Character-Relationship\"),\\n (\"Bob Cratchit\", \"Scrooge\", \"employee\", \"Character-Relationship\"),\\n (\"Bob Cratchit\", \"Scrooge\", \"salary receiver\", \"Character-Relationship\")]',\n",
       " '[(\"Scrooge\", \"Tiny Tim\", \"father figure\", \"Character-Relationship\"),\\n (\"Scrooge\", \"Tiny Tim\", \"friend\", \"Character-Relationship\"),\\n (\"Scrooge\", \"Bob Cratchit\", \"master\", \"Character-Relationship\"),\\n (\"Scrooge\", \"Marley\", \"business partner\", \"Character-Relationship\")]']"
      ]
     },
     "execution_count": 125,
     "metadata": {},
     "output_type": "execute_result"
    }
   ],
   "execution_count": 125
  },
  {
   "metadata": {
    "ExecuteTime": {
     "end_time": "2024-11-22T20:48:57.882816Z",
     "start_time": "2024-11-22T20:48:57.861630Z"
    }
   },
   "cell_type": "code",
   "source": [
    "# output processing and cache the results\n",
    "chunk_level_relations_eval = []\n",
    "\n",
    "for relations in chunk_level_relations:\n",
    "    try:\n",
    "        chunk_level_relations_eval += eval(relations)\n",
    "    except Exception as e:\n",
    "        print(e)\n",
    "    \n",
    "import pickle\n",
    "\n",
    "with open('output/relations/chunk-level-relations.pickle', 'wb') as file:\n",
    "    pickle.dump(chunk_level_relations_eval, file)"
   ],
   "outputs": [
    {
     "name": "stdout",
     "output_type": "stream",
     "text": [
      "unterminated string literal (detected at line 84) (<string>, line 84)\n"
     ]
    }
   ],
   "execution_count": 126
  },
  {
   "metadata": {},
   "cell_type": "markdown",
   "source": [
    "## 3.2 Entity Type Resolution\n",
    "\n",
    "Finally, we need to resolve the entity types for the entities in the extracted relations.\n",
    "\n",
    "The entities in the relations extracted from the last step does not really match the entities we extracted separately before.\n",
    "\n",
    "The result will be a hashmap (python dictionary) with the entity as the key and the entity type as the value."
   ]
  },
  {
   "metadata": {
    "ExecuteTime": {
     "end_time": "2024-11-22T20:49:26.370130Z",
     "start_time": "2024-11-22T20:49:26.365141Z"
    }
   },
   "cell_type": "code",
   "source": [
    "import pickle\n",
    "\n",
    "with open('./output/relations/chunk-level-relations.pickle', 'rb') as file:\n",
    "    cl_relations = pickle.load(file)\n",
    "    \n",
    "print(f'Number of tokens: {str(cl_relations).__len__()}')\n",
    "print(f'Number of relations: {cl_relations.__len__()}')"
   ],
   "outputs": [
    {
     "name": "stdout",
     "output_type": "stream",
     "text": [
      "Number of tokens: 41962\n",
      "Number of relations: 586\n"
     ]
    }
   ],
   "execution_count": 127
  },
  {
   "metadata": {
    "ExecuteTime": {
     "end_time": "2024-11-22T20:49:30.906206Z",
     "start_time": "2024-11-22T20:49:30.902198Z"
    }
   },
   "cell_type": "code",
   "source": [
    "entities_in_extracted_relations = []\n",
    "for cl_relation in cl_relations:\n",
    "    entities_in_extracted_relations.append(cl_relation[0])\n",
    "    entities_in_extracted_relations.append(cl_relation[1])\n",
    "    \n",
    "entities_in_extracted_relations = list(set(entities_in_extracted_relations))\n",
    "\n",
    "print(entities_in_extracted_relations.__len__())"
   ],
   "outputs": [
    {
     "name": "stdout",
     "output_type": "stream",
     "text": [
      "190\n"
     ]
    }
   ],
   "execution_count": 128
  },
  {
   "metadata": {},
   "cell_type": "markdown",
   "source": "Next, build another pipeline for entity type resolution."
  },
  {
   "metadata": {
    "ExecuteTime": {
     "end_time": "2024-11-22T20:50:41.163382Z",
     "start_time": "2024-11-22T20:49:36.100715Z"
    }
   },
   "cell_type": "code",
   "source": [
    "# resolve entity types\n",
    "from tqdm import tqdm\n",
    "from langchain_ollama import ChatOllama\n",
    "from langchain_core.prompts import ChatPromptTemplate\n",
    "\n",
    "relation_yaml = yaml.safe_load(open('./prompts/relation.yaml', 'r'))\n",
    "\n",
    "assign_entity_types_template = ChatPromptTemplate.from_messages([\n",
    "        (\"system\", relation_yaml['system']),\n",
    "        (\"human\", relation_yaml['assign-entity-types']),\n",
    "    ])\n",
    "\n",
    "llama3_1_assign_entity_type = ChatOllama(\n",
    "    model=\"llama3.1:8b\",\n",
    "    temperature=0.3,\n",
    "    top_k=20,\n",
    "    top_p=0.6,\n",
    "    num_predict=4096,\n",
    "    base_url=\"http://127.0.0.1:11434\",\n",
    ")\n",
    "\n",
    "assign_entity_types_chain = assign_entity_types_template | llama3_1_entity_type | StrOutputParser()\n",
    "\n",
    "entity_types_for_relations = []\n",
    "\n",
    "for entity in tqdm(entities_in_extracted_relations):\n",
    "    entity_types_for_relations.append(assign_entity_types_chain.invoke({\n",
    "        \"entity\": entity,\n",
    "        \"entity_types\": entity_yaml[\"entity_types\"],\n",
    "    }))"
   ],
   "outputs": [
    {
     "name": "stderr",
     "output_type": "stream",
     "text": [
      "100%|██████████| 190/190 [01:05<00:00,  2.92it/s]\n"
     ]
    }
   ],
   "execution_count": 129
  },
  {
   "metadata": {
    "ExecuteTime": {
     "end_time": "2024-11-22T21:07:40.190849Z",
     "start_time": "2024-11-22T21:07:40.183287Z"
    }
   },
   "cell_type": "code",
   "source": [
    "# error handling: if the entity type does not belong to the list, then assign the entity type as 'Miscellaneous'\n",
    "\n",
    "final_entity_types_list = []\n",
    "valid_answer = 0\n",
    "\n",
    "for item in entity_types_for_relations:\n",
    "    try:\n",
    "        if item in entity_yaml[\"entity_types\"]:\n",
    "            final_entity_types_list.append(item)\n",
    "            valid_answer += 1\n",
    "        else:\n",
    "            final_entity_types_list.append(\"Miscellaneous\")\n",
    "            \n",
    "    except Exception as e:\n",
    "        print(e)\n",
    "        final_entity_types_list.append(\"Miscellaneous\")\n",
    "        \n",
    "print(f'{valid_answer} / {entity_types_for_relations.__len__()} valid answers')\n",
    "\n",
    "entity_types_mapping = dict(zip(entities_in_extracted_relations, final_entity_types_list))\n",
    "\n",
    "# dump to pickle\n",
    "\n",
    "with open('./output/relations/relations-entity-type.pickle', 'wb') as file:\n",
    "    pickle.dump(entity_types_mapping, file)"
   ],
   "outputs": [
    {
     "name": "stdout",
     "output_type": "stream",
     "text": [
      "185 / 190 valid answers\n"
     ]
    }
   ],
   "execution_count": 130
  }
 ],
 "metadata": {
  "kernelspec": {
   "display_name": "base",
   "language": "python",
   "name": "python3"
  },
  "language_info": {
   "codemirror_mode": {
    "name": "ipython",
    "version": 3
   },
   "file_extension": ".py",
   "mimetype": "text/x-python",
   "name": "python",
   "nbconvert_exporter": "python",
   "pygments_lexer": "ipython3",
   "version": "3.11.9"
  }
 },
 "nbformat": 4,
 "nbformat_minor": 2
}
